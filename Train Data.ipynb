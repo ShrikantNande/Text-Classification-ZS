{
 "cells": [
  {
   "cell_type": "markdown",
   "metadata": {},
   "source": [
    "## 1) Dataset Preparation"
   ]
  },
  {
   "cell_type": "code",
   "execution_count": 1,
   "metadata": {},
   "outputs": [
    {
     "name": "stderr",
     "output_type": "stream",
     "text": [
      "[nltk_data] Downloading package stopwords to /home/shri/nltk_data...\n",
      "[nltk_data]   Package stopwords is already up-to-date!\n"
     ]
    }
   ],
   "source": [
    "# Tokenization of paragraphs/sentences\n",
    "import re\n",
    "import numpy as np\n",
    "import pandas as pd\n",
    "import nltk\n",
    "nltk.download('stopwords')\n",
    "from nltk.corpus import stopwords\n",
    "import numpy as np\n",
    "import pandas as pd\n",
    "from sklearn import preprocessing\n",
    "from sklearn.feature_extraction.text import CountVectorizer, TfidfVectorizer\n",
    "from sklearn.model_selection import train_test_split, KFold\n",
    "from nltk.corpus import stopwords"
   ]
  },
  {
   "cell_type": "markdown",
   "metadata": {},
   "source": [
    "### Load Dataset"
   ]
  },
  {
   "cell_type": "code",
   "execution_count": 2,
   "metadata": {},
   "outputs": [
    {
     "data": {
      "text/html": [
       "<div>\n",
       "<style scoped>\n",
       "    .dataframe tbody tr th:only-of-type {\n",
       "        vertical-align: middle;\n",
       "    }\n",
       "\n",
       "    .dataframe tbody tr th {\n",
       "        vertical-align: top;\n",
       "    }\n",
       "\n",
       "    .dataframe thead th {\n",
       "        text-align: right;\n",
       "    }\n",
       "</style>\n",
       "<table border=\"1\" class=\"dataframe\">\n",
       "  <thead>\n",
       "    <tr style=\"text-align: right;\">\n",
       "      <th></th>\n",
       "      <th>Source</th>\n",
       "      <th>Host</th>\n",
       "      <th>Link</th>\n",
       "      <th>Date(ET)</th>\n",
       "      <th>Time(ET)</th>\n",
       "      <th>time(GMT)</th>\n",
       "      <th>Title</th>\n",
       "      <th>TRANS_CONV_TEXT</th>\n",
       "      <th>Patient_Tag</th>\n",
       "    </tr>\n",
       "  </thead>\n",
       "  <tbody>\n",
       "    <tr>\n",
       "      <th>0</th>\n",
       "      <td>FORUMS</td>\n",
       "      <td>cafepharma.com</td>\n",
       "      <td>http://cafepharma.com/boards/threads/epstein.5...</td>\n",
       "      <td>6/15/2016</td>\n",
       "      <td>13:58:00</td>\n",
       "      <td>6/15/2016 23:28</td>\n",
       "      <td>Epstein</td>\n",
       "      <td>I don't disagree with you in principle. I'm ju...</td>\n",
       "      <td>0</td>\n",
       "    </tr>\n",
       "    <tr>\n",
       "      <th>1</th>\n",
       "      <td>FORUMS</td>\n",
       "      <td>www.patient.co.uk</td>\n",
       "      <td>http://www.patient.co.uk/forums/discuss/enlarg...</td>\n",
       "      <td>5/7/2016</td>\n",
       "      <td>0.820833333</td>\n",
       "      <td>42498.21667</td>\n",
       "      <td>Enlarged Heart.Thread Enlarged Heart</td>\n",
       "      <td>I am always dizzy I get dizzy standing up so I...</td>\n",
       "      <td>1</td>\n",
       "    </tr>\n",
       "    <tr>\n",
       "      <th>2</th>\n",
       "      <td>BLOG</td>\n",
       "      <td>http://abcnewsradioonline.com/entertainment-news</td>\n",
       "      <td>http://abcnewsradioonline.com/entertainment-ne...</td>\n",
       "      <td>4/14/2016</td>\n",
       "      <td>15:00:38</td>\n",
       "      <td>4/15/2016 0:30</td>\n",
       "      <td>Queen Latifah Joins American Heart Association...</td>\n",
       "      <td>Axelle/Bauer-Griffin/FilmMagic(NEW YORK) -- Qu...</td>\n",
       "      <td>0</td>\n",
       "    </tr>\n",
       "    <tr>\n",
       "      <th>3</th>\n",
       "      <td>FORUMS</td>\n",
       "      <td>www.cancer-forums.net</td>\n",
       "      <td>http://www.cancer-forums.net/viewtopic.php?f=1...</td>\n",
       "      <td>6/18/2016</td>\n",
       "      <td>20:46:00</td>\n",
       "      <td>6/19/2016 6:16</td>\n",
       "      <td>Bulaemia</td>\n",
       "      <td>I am 17 and I have been throwing up for about ...</td>\n",
       "      <td>1</td>\n",
       "    </tr>\n",
       "    <tr>\n",
       "      <th>4</th>\n",
       "      <td>FORUMS</td>\n",
       "      <td>www.diyaudio.com</td>\n",
       "      <td>http://www.diyaudio.com/forums/lounge/292252-d...</td>\n",
       "      <td>6/15/2016</td>\n",
       "      <td>3:26:00</td>\n",
       "      <td>6/15/2016 12:56</td>\n",
       "      <td>DIY Silver interconnects and RCAs???</td>\n",
       "      <td>Quote: Originally Posted by Boyan Silyavski Wa...</td>\n",
       "      <td>0</td>\n",
       "    </tr>\n",
       "  </tbody>\n",
       "</table>\n",
       "</div>"
      ],
      "text/plain": [
       "   Source                                              Host  \\\n",
       "0  FORUMS                                    cafepharma.com   \n",
       "1  FORUMS                                 www.patient.co.uk   \n",
       "2    BLOG  http://abcnewsradioonline.com/entertainment-news   \n",
       "3  FORUMS                             www.cancer-forums.net   \n",
       "4  FORUMS                                  www.diyaudio.com   \n",
       "\n",
       "                                                Link   Date(ET)     Time(ET)  \\\n",
       "0  http://cafepharma.com/boards/threads/epstein.5...  6/15/2016     13:58:00   \n",
       "1  http://www.patient.co.uk/forums/discuss/enlarg...   5/7/2016  0.820833333   \n",
       "2  http://abcnewsradioonline.com/entertainment-ne...  4/14/2016     15:00:38   \n",
       "3  http://www.cancer-forums.net/viewtopic.php?f=1...  6/18/2016     20:46:00   \n",
       "4  http://www.diyaudio.com/forums/lounge/292252-d...  6/15/2016      3:26:00   \n",
       "\n",
       "         time(GMT)                                              Title  \\\n",
       "0  6/15/2016 23:28                                            Epstein   \n",
       "1      42498.21667               Enlarged Heart.Thread Enlarged Heart   \n",
       "2   4/15/2016 0:30  Queen Latifah Joins American Heart Association...   \n",
       "3   6/19/2016 6:16                                           Bulaemia   \n",
       "4  6/15/2016 12:56               DIY Silver interconnects and RCAs???   \n",
       "\n",
       "                                     TRANS_CONV_TEXT  Patient_Tag  \n",
       "0  I don't disagree with you in principle. I'm ju...            0  \n",
       "1  I am always dizzy I get dizzy standing up so I...            1  \n",
       "2  Axelle/Bauer-Griffin/FilmMagic(NEW YORK) -- Qu...            0  \n",
       "3  I am 17 and I have been throwing up for about ...            1  \n",
       "4  Quote: Originally Posted by Boyan Silyavski Wa...            0  "
      ]
     },
     "execution_count": 2,
     "metadata": {},
     "output_type": "execute_result"
    }
   ],
   "source": [
    "patient_conversations = pd.read_csv('/home/shri/Downloads/NLP/ZS-DATA_NLP_CLASSIFICATION/dataset/train.csv',header=0,encoding = 'unicode_escape')\n",
    "patient_conversations.head(5)"
   ]
  },
  {
   "cell_type": "code",
   "execution_count": 3,
   "metadata": {},
   "outputs": [
    {
     "data": {
      "text/html": [
       "<div>\n",
       "<style scoped>\n",
       "    .dataframe tbody tr th:only-of-type {\n",
       "        vertical-align: middle;\n",
       "    }\n",
       "\n",
       "    .dataframe tbody tr th {\n",
       "        vertical-align: top;\n",
       "    }\n",
       "\n",
       "    .dataframe thead th {\n",
       "        text-align: right;\n",
       "    }\n",
       "</style>\n",
       "<table border=\"1\" class=\"dataframe\">\n",
       "  <thead>\n",
       "    <tr style=\"text-align: right;\">\n",
       "      <th></th>\n",
       "      <th>Text</th>\n",
       "      <th>Pat_Tag</th>\n",
       "    </tr>\n",
       "  </thead>\n",
       "  <tbody>\n",
       "    <tr>\n",
       "      <th>0</th>\n",
       "      <td>I don't disagree with you in principle. I'm ju...</td>\n",
       "      <td>0</td>\n",
       "    </tr>\n",
       "    <tr>\n",
       "      <th>1</th>\n",
       "      <td>I am always dizzy I get dizzy standing up so I...</td>\n",
       "      <td>1</td>\n",
       "    </tr>\n",
       "  </tbody>\n",
       "</table>\n",
       "</div>"
      ],
      "text/plain": [
       "                                                Text  Pat_Tag\n",
       "0  I don't disagree with you in principle. I'm ju...        0\n",
       "1  I am always dizzy I get dizzy standing up so I...        1"
      ]
     },
     "execution_count": 3,
     "metadata": {},
     "output_type": "execute_result"
    }
   ],
   "source": [
    "# Select only important variable (here, \"TRANS_CONV_TEXT\"  and \"Patient_Tag\") \n",
    "patient_conversations= patient_conversations[[\"TRANS_CONV_TEXT\",\"Patient_Tag\"]]\n",
    "# Change the Variable Name (for simplicity)\n",
    "patient_conversations.rename({'TRANS_CONV_TEXT': 'Text', 'Patient_Tag': 'Pat_Tag'}, axis=1, inplace=True)\n",
    "patient_conversations.head(2)\n"
   ]
  },
  {
   "cell_type": "markdown",
   "metadata": {},
   "source": [
    "## 2 )  Feature Engineering "
   ]
  },
  {
   "cell_type": "markdown",
   "metadata": {},
   "source": [
    "###  Cleaning Dataset"
   ]
  },
  {
   "cell_type": "code",
   "execution_count": 4,
   "metadata": {},
   "outputs": [],
   "source": [
    "y=patient_conversations[\"Pat_Tag\"]\n",
    "x=patient_conversations[\"Text\"]\n",
    "# Creating the corpus\n",
    "Text = []\n",
    "for i in range(len(x)):\n",
    "    review = re.sub(r'\\W', ' ', str(x[i]))\n",
    "    review = review.lower()\n",
    "    review = re.sub(r'^br$', ' ', review)\n",
    "    review = re.sub(r'\\s+br\\s+',' ',review)\n",
    "    review = re.sub(r'\\s+[a-z]\\s+', ' ',review)\n",
    "    review = re.sub(r'^b\\s+', '', review)\n",
    "    review = re.sub(r'\\s+', ' ', review)\n",
    "    result = re.sub(r'\\d+', ' ', review)\n",
    "    \n",
    "    Text.append(result)    \n"
   ]
  },
  {
   "cell_type": "code",
   "execution_count": 5,
   "metadata": {},
   "outputs": [
    {
     "data": {
      "text/html": [
       "<div>\n",
       "<style scoped>\n",
       "    .dataframe tbody tr th:only-of-type {\n",
       "        vertical-align: middle;\n",
       "    }\n",
       "\n",
       "    .dataframe tbody tr th {\n",
       "        vertical-align: top;\n",
       "    }\n",
       "\n",
       "    .dataframe thead th {\n",
       "        text-align: right;\n",
       "    }\n",
       "</style>\n",
       "<table border=\"1\" class=\"dataframe\">\n",
       "  <thead>\n",
       "    <tr style=\"text-align: right;\">\n",
       "      <th></th>\n",
       "      <th>Text</th>\n",
       "      <th>Pat_Tag</th>\n",
       "    </tr>\n",
       "  </thead>\n",
       "  <tbody>\n",
       "    <tr>\n",
       "      <th>0</th>\n",
       "      <td>i don disagree with you in principle m just sa...</td>\n",
       "      <td>0</td>\n",
       "    </tr>\n",
       "    <tr>\n",
       "      <th>1</th>\n",
       "      <td>i am always dizzy get dizzy standing up so hav...</td>\n",
       "      <td>1</td>\n",
       "    </tr>\n",
       "  </tbody>\n",
       "</table>\n",
       "</div>"
      ],
      "text/plain": [
       "                                                Text  Pat_Tag\n",
       "0  i don disagree with you in principle m just sa...        0\n",
       "1  i am always dizzy get dizzy standing up so hav...        1"
      ]
     },
     "execution_count": 5,
     "metadata": {},
     "output_type": "execute_result"
    }
   ],
   "source": [
    "Text= pd.DataFrame(Text, columns = ['Text']) \n",
    "# Convert the cleaned dataset to the dataframe \n",
    "patient_conversations = pd.concat([Text, y], axis=1, sort=False)\n",
    "patient_conversations.head(2)"
   ]
  },
  {
   "cell_type": "markdown",
   "metadata": {},
   "source": [
    "#### Stopwords"
   ]
  },
  {
   "cell_type": "code",
   "execution_count": 6,
   "metadata": {},
   "outputs": [
    {
     "data": {
      "text/plain": [
       "array(['i', 'me', 'my', 'myself', 'we', 'our', 'ours', 'ourselves', 'you',\n",
       "       \"you're\", \"you've\", \"you'll\", \"you'd\", 'your', 'yours', 'yourself',\n",
       "       'yourselves', 'he', 'him', 'his', 'himself', 'she', \"she's\", 'her',\n",
       "       'hers', 'herself', 'it', \"it's\", 'its', 'itself', 'they', 'them',\n",
       "       'their', 'theirs', 'themselves', 'what', 'which', 'who', 'whom',\n",
       "       'this', 'that', \"that'll\", 'these', 'those', 'am', 'is', 'are',\n",
       "       'was', 'were', 'be', 'been', 'being', 'have', 'has', 'had',\n",
       "       'having', 'do', 'does', 'did', 'doing', 'a', 'an', 'the', 'and',\n",
       "       'but', 'if', 'or', 'because', 'as', 'until', 'while', 'of', 'at',\n",
       "       'by', 'for', 'with', 'about', 'against', 'between', 'into',\n",
       "       'through', 'during', 'before', 'after', 'above', 'below', 'to',\n",
       "       'from', 'up', 'down', 'in', 'out', 'on', 'off', 'over', 'under',\n",
       "       'again', 'further', 'then', 'once', 'here', 'there', 'when',\n",
       "       'where', 'why', 'how', 'all', 'any', 'both', 'each', 'few', 'more',\n",
       "       'most', 'other', 'some', 'such', 'no', 'nor', 'not', 'only', 'own',\n",
       "       'same', 'so', 'than', 'too', 'very', 's', 't', 'can', 'will',\n",
       "       'just', 'don', \"don't\", 'should', \"should've\", 'now', 'd', 'll',\n",
       "       'm', 'o', 're', 've', 'y', 'ain', 'aren', \"aren't\", 'couldn',\n",
       "       \"couldn't\", 'didn', \"didn't\", 'doesn', \"doesn't\", 'hadn', \"hadn't\",\n",
       "       'hasn', \"hasn't\", 'haven', \"haven't\", 'isn', \"isn't\", 'ma',\n",
       "       'mightn', \"mightn't\", 'mustn', \"mustn't\", 'needn', \"needn't\",\n",
       "       'shan', \"shan't\", 'shouldn', \"shouldn't\", 'wasn', \"wasn't\",\n",
       "       'weren', \"weren't\", 'won', \"won't\", 'wouldn', \"wouldn't\"],\n",
       "      dtype='<U10')"
      ]
     },
     "execution_count": 6,
     "metadata": {},
     "output_type": "execute_result"
    }
   ],
   "source": [
    "# extracting the stopwords from nltk library\n",
    "sw = stopwords.words('english')\n",
    "# displaying the stopwords\n",
    "np.array(sw)"
   ]
  },
  {
   "cell_type": "code",
   "execution_count": 7,
   "metadata": {},
   "outputs": [
    {
     "name": "stdout",
     "output_type": "stream",
     "text": [
      "Number of stopwords:  179\n"
     ]
    }
   ],
   "source": [
    "print(\"Number of stopwords: \", len(sw))"
   ]
  },
  {
   "cell_type": "code",
   "execution_count": 8,
   "metadata": {},
   "outputs": [],
   "source": [
    "def stopwords(text):\n",
    "    '''a function for removing the stopword'''\n",
    "    # removing the stop words and lowercasing the selected words\n",
    "    text = [word.lower() for word in text.split() if word.lower() not in sw]\n",
    "    # joining the list of words with space separator\n",
    "    return \" \".join(text)"
   ]
  },
  {
   "cell_type": "code",
   "execution_count": 9,
   "metadata": {},
   "outputs": [
    {
     "data": {
      "text/html": [
       "<div>\n",
       "<style scoped>\n",
       "    .dataframe tbody tr th:only-of-type {\n",
       "        vertical-align: middle;\n",
       "    }\n",
       "\n",
       "    .dataframe tbody tr th {\n",
       "        vertical-align: top;\n",
       "    }\n",
       "\n",
       "    .dataframe thead th {\n",
       "        text-align: right;\n",
       "    }\n",
       "</style>\n",
       "<table border=\"1\" class=\"dataframe\">\n",
       "  <thead>\n",
       "    <tr style=\"text-align: right;\">\n",
       "      <th></th>\n",
       "      <th>Text</th>\n",
       "      <th>Pat_Tag</th>\n",
       "    </tr>\n",
       "  </thead>\n",
       "  <tbody>\n",
       "    <tr>\n",
       "      <th>0</th>\n",
       "      <td>disagree principle saying entresto major failu...</td>\n",
       "      <td>0</td>\n",
       "    </tr>\n",
       "    <tr>\n",
       "      <th>1</th>\n",
       "      <td>always dizzy get dizzy standing made get slow ...</td>\n",
       "      <td>1</td>\n",
       "    </tr>\n",
       "  </tbody>\n",
       "</table>\n",
       "</div>"
      ],
      "text/plain": [
       "                                                Text  Pat_Tag\n",
       "0  disagree principle saying entresto major failu...        0\n",
       "1  always dizzy get dizzy standing made get slow ...        1"
      ]
     },
     "execution_count": 9,
     "metadata": {},
     "output_type": "execute_result"
    }
   ],
   "source": [
    "patient_conversations['Text'] = patient_conversations['Text'].apply(stopwords)\n",
    "patient_conversations.head(2)"
   ]
  },
  {
   "cell_type": "markdown",
   "metadata": {},
   "source": [
    "## 2 ) TF-IDF Extraction"
   ]
  },
  {
   "cell_type": "code",
   "execution_count": 10,
   "metadata": {},
   "outputs": [],
   "source": [
    "from sklearn.feature_extraction.text import CountVectorizer, TfidfVectorizer\n",
    "# extract the tfid representation matrix of the text data\n",
    "df_x=patient_conversations[\"Text\"]  \n",
    "df_y=patient_conversations[\"Pat_Tag\"]\n",
    "cv = TfidfVectorizer()   \n",
    "#df_xcv = cv.fit_transform(df_x)  \n",
    "tfid_matrix = cv.fit_transform(df_x)\n",
    "# collect the tfid matrix in numpy array\n",
    "array = tfid_matrix.todense()"
   ]
  },
  {
   "cell_type": "code",
   "execution_count": 11,
   "metadata": {},
   "outputs": [
    {
     "data": {
      "text/html": [
       "<div>\n",
       "<style scoped>\n",
       "    .dataframe tbody tr th:only-of-type {\n",
       "        vertical-align: middle;\n",
       "    }\n",
       "\n",
       "    .dataframe tbody tr th {\n",
       "        vertical-align: top;\n",
       "    }\n",
       "\n",
       "    .dataframe thead th {\n",
       "        text-align: right;\n",
       "    }\n",
       "</style>\n",
       "<table border=\"1\" class=\"dataframe\">\n",
       "  <thead>\n",
       "    <tr style=\"text-align: right;\">\n",
       "      <th></th>\n",
       "      <th>0</th>\n",
       "      <th>1</th>\n",
       "      <th>2</th>\n",
       "      <th>3</th>\n",
       "      <th>4</th>\n",
       "      <th>5</th>\n",
       "      <th>6</th>\n",
       "      <th>7</th>\n",
       "      <th>8</th>\n",
       "      <th>9</th>\n",
       "      <th>...</th>\n",
       "      <th>22595</th>\n",
       "      <th>22596</th>\n",
       "      <th>22597</th>\n",
       "      <th>22598</th>\n",
       "      <th>22599</th>\n",
       "      <th>22600</th>\n",
       "      <th>22601</th>\n",
       "      <th>22602</th>\n",
       "      <th>22603</th>\n",
       "      <th>22604</th>\n",
       "    </tr>\n",
       "  </thead>\n",
       "  <tbody>\n",
       "    <tr>\n",
       "      <th>0</th>\n",
       "      <td>0.0</td>\n",
       "      <td>0.0</td>\n",
       "      <td>0.0</td>\n",
       "      <td>0.0</td>\n",
       "      <td>0.0</td>\n",
       "      <td>0.0</td>\n",
       "      <td>0.0</td>\n",
       "      <td>0.0</td>\n",
       "      <td>0.0</td>\n",
       "      <td>0.0</td>\n",
       "      <td>...</td>\n",
       "      <td>0.0</td>\n",
       "      <td>0.0</td>\n",
       "      <td>0.0</td>\n",
       "      <td>0.0</td>\n",
       "      <td>0.0</td>\n",
       "      <td>0.0</td>\n",
       "      <td>0.0</td>\n",
       "      <td>0.0</td>\n",
       "      <td>0.0</td>\n",
       "      <td>0.0</td>\n",
       "    </tr>\n",
       "    <tr>\n",
       "      <th>1</th>\n",
       "      <td>0.0</td>\n",
       "      <td>0.0</td>\n",
       "      <td>0.0</td>\n",
       "      <td>0.0</td>\n",
       "      <td>0.0</td>\n",
       "      <td>0.0</td>\n",
       "      <td>0.0</td>\n",
       "      <td>0.0</td>\n",
       "      <td>0.0</td>\n",
       "      <td>0.0</td>\n",
       "      <td>...</td>\n",
       "      <td>0.0</td>\n",
       "      <td>0.0</td>\n",
       "      <td>0.0</td>\n",
       "      <td>0.0</td>\n",
       "      <td>0.0</td>\n",
       "      <td>0.0</td>\n",
       "      <td>0.0</td>\n",
       "      <td>0.0</td>\n",
       "      <td>0.0</td>\n",
       "      <td>0.0</td>\n",
       "    </tr>\n",
       "    <tr>\n",
       "      <th>2</th>\n",
       "      <td>0.0</td>\n",
       "      <td>0.0</td>\n",
       "      <td>0.0</td>\n",
       "      <td>0.0</td>\n",
       "      <td>0.0</td>\n",
       "      <td>0.0</td>\n",
       "      <td>0.0</td>\n",
       "      <td>0.0</td>\n",
       "      <td>0.0</td>\n",
       "      <td>0.0</td>\n",
       "      <td>...</td>\n",
       "      <td>0.0</td>\n",
       "      <td>0.0</td>\n",
       "      <td>0.0</td>\n",
       "      <td>0.0</td>\n",
       "      <td>0.0</td>\n",
       "      <td>0.0</td>\n",
       "      <td>0.0</td>\n",
       "      <td>0.0</td>\n",
       "      <td>0.0</td>\n",
       "      <td>0.0</td>\n",
       "    </tr>\n",
       "    <tr>\n",
       "      <th>3</th>\n",
       "      <td>0.0</td>\n",
       "      <td>0.0</td>\n",
       "      <td>0.0</td>\n",
       "      <td>0.0</td>\n",
       "      <td>0.0</td>\n",
       "      <td>0.0</td>\n",
       "      <td>0.0</td>\n",
       "      <td>0.0</td>\n",
       "      <td>0.0</td>\n",
       "      <td>0.0</td>\n",
       "      <td>...</td>\n",
       "      <td>0.0</td>\n",
       "      <td>0.0</td>\n",
       "      <td>0.0</td>\n",
       "      <td>0.0</td>\n",
       "      <td>0.0</td>\n",
       "      <td>0.0</td>\n",
       "      <td>0.0</td>\n",
       "      <td>0.0</td>\n",
       "      <td>0.0</td>\n",
       "      <td>0.0</td>\n",
       "    </tr>\n",
       "    <tr>\n",
       "      <th>4</th>\n",
       "      <td>0.0</td>\n",
       "      <td>0.0</td>\n",
       "      <td>0.0</td>\n",
       "      <td>0.0</td>\n",
       "      <td>0.0</td>\n",
       "      <td>0.0</td>\n",
       "      <td>0.0</td>\n",
       "      <td>0.0</td>\n",
       "      <td>0.0</td>\n",
       "      <td>0.0</td>\n",
       "      <td>...</td>\n",
       "      <td>0.0</td>\n",
       "      <td>0.0</td>\n",
       "      <td>0.0</td>\n",
       "      <td>0.0</td>\n",
       "      <td>0.0</td>\n",
       "      <td>0.0</td>\n",
       "      <td>0.0</td>\n",
       "      <td>0.0</td>\n",
       "      <td>0.0</td>\n",
       "      <td>0.0</td>\n",
       "    </tr>\n",
       "    <tr>\n",
       "      <th>5</th>\n",
       "      <td>0.0</td>\n",
       "      <td>0.0</td>\n",
       "      <td>0.0</td>\n",
       "      <td>0.0</td>\n",
       "      <td>0.0</td>\n",
       "      <td>0.0</td>\n",
       "      <td>0.0</td>\n",
       "      <td>0.0</td>\n",
       "      <td>0.0</td>\n",
       "      <td>0.0</td>\n",
       "      <td>...</td>\n",
       "      <td>0.0</td>\n",
       "      <td>0.0</td>\n",
       "      <td>0.0</td>\n",
       "      <td>0.0</td>\n",
       "      <td>0.0</td>\n",
       "      <td>0.0</td>\n",
       "      <td>0.0</td>\n",
       "      <td>0.0</td>\n",
       "      <td>0.0</td>\n",
       "      <td>0.0</td>\n",
       "    </tr>\n",
       "    <tr>\n",
       "      <th>6</th>\n",
       "      <td>0.0</td>\n",
       "      <td>0.0</td>\n",
       "      <td>0.0</td>\n",
       "      <td>0.0</td>\n",
       "      <td>0.0</td>\n",
       "      <td>0.0</td>\n",
       "      <td>0.0</td>\n",
       "      <td>0.0</td>\n",
       "      <td>0.0</td>\n",
       "      <td>0.0</td>\n",
       "      <td>...</td>\n",
       "      <td>0.0</td>\n",
       "      <td>0.0</td>\n",
       "      <td>0.0</td>\n",
       "      <td>0.0</td>\n",
       "      <td>0.0</td>\n",
       "      <td>0.0</td>\n",
       "      <td>0.0</td>\n",
       "      <td>0.0</td>\n",
       "      <td>0.0</td>\n",
       "      <td>0.0</td>\n",
       "    </tr>\n",
       "    <tr>\n",
       "      <th>7</th>\n",
       "      <td>0.0</td>\n",
       "      <td>0.0</td>\n",
       "      <td>0.0</td>\n",
       "      <td>0.0</td>\n",
       "      <td>0.0</td>\n",
       "      <td>0.0</td>\n",
       "      <td>0.0</td>\n",
       "      <td>0.0</td>\n",
       "      <td>0.0</td>\n",
       "      <td>0.0</td>\n",
       "      <td>...</td>\n",
       "      <td>0.0</td>\n",
       "      <td>0.0</td>\n",
       "      <td>0.0</td>\n",
       "      <td>0.0</td>\n",
       "      <td>0.0</td>\n",
       "      <td>0.0</td>\n",
       "      <td>0.0</td>\n",
       "      <td>0.0</td>\n",
       "      <td>0.0</td>\n",
       "      <td>0.0</td>\n",
       "    </tr>\n",
       "    <tr>\n",
       "      <th>8</th>\n",
       "      <td>0.0</td>\n",
       "      <td>0.0</td>\n",
       "      <td>0.0</td>\n",
       "      <td>0.0</td>\n",
       "      <td>0.0</td>\n",
       "      <td>0.0</td>\n",
       "      <td>0.0</td>\n",
       "      <td>0.0</td>\n",
       "      <td>0.0</td>\n",
       "      <td>0.0</td>\n",
       "      <td>...</td>\n",
       "      <td>0.0</td>\n",
       "      <td>0.0</td>\n",
       "      <td>0.0</td>\n",
       "      <td>0.0</td>\n",
       "      <td>0.0</td>\n",
       "      <td>0.0</td>\n",
       "      <td>0.0</td>\n",
       "      <td>0.0</td>\n",
       "      <td>0.0</td>\n",
       "      <td>0.0</td>\n",
       "    </tr>\n",
       "    <tr>\n",
       "      <th>9</th>\n",
       "      <td>0.0</td>\n",
       "      <td>0.0</td>\n",
       "      <td>0.0</td>\n",
       "      <td>0.0</td>\n",
       "      <td>0.0</td>\n",
       "      <td>0.0</td>\n",
       "      <td>0.0</td>\n",
       "      <td>0.0</td>\n",
       "      <td>0.0</td>\n",
       "      <td>0.0</td>\n",
       "      <td>...</td>\n",
       "      <td>0.0</td>\n",
       "      <td>0.0</td>\n",
       "      <td>0.0</td>\n",
       "      <td>0.0</td>\n",
       "      <td>0.0</td>\n",
       "      <td>0.0</td>\n",
       "      <td>0.0</td>\n",
       "      <td>0.0</td>\n",
       "      <td>0.0</td>\n",
       "      <td>0.0</td>\n",
       "    </tr>\n",
       "  </tbody>\n",
       "</table>\n",
       "<p>10 rows × 22605 columns</p>\n",
       "</div>"
      ],
      "text/plain": [
       "   0      1      2      3      4      5      6      7      8      9      ...  \\\n",
       "0    0.0    0.0    0.0    0.0    0.0    0.0    0.0    0.0    0.0    0.0  ...   \n",
       "1    0.0    0.0    0.0    0.0    0.0    0.0    0.0    0.0    0.0    0.0  ...   \n",
       "2    0.0    0.0    0.0    0.0    0.0    0.0    0.0    0.0    0.0    0.0  ...   \n",
       "3    0.0    0.0    0.0    0.0    0.0    0.0    0.0    0.0    0.0    0.0  ...   \n",
       "4    0.0    0.0    0.0    0.0    0.0    0.0    0.0    0.0    0.0    0.0  ...   \n",
       "5    0.0    0.0    0.0    0.0    0.0    0.0    0.0    0.0    0.0    0.0  ...   \n",
       "6    0.0    0.0    0.0    0.0    0.0    0.0    0.0    0.0    0.0    0.0  ...   \n",
       "7    0.0    0.0    0.0    0.0    0.0    0.0    0.0    0.0    0.0    0.0  ...   \n",
       "8    0.0    0.0    0.0    0.0    0.0    0.0    0.0    0.0    0.0    0.0  ...   \n",
       "9    0.0    0.0    0.0    0.0    0.0    0.0    0.0    0.0    0.0    0.0  ...   \n",
       "\n",
       "   22595  22596  22597  22598  22599  22600  22601  22602  22603  22604  \n",
       "0    0.0    0.0    0.0    0.0    0.0    0.0    0.0    0.0    0.0    0.0  \n",
       "1    0.0    0.0    0.0    0.0    0.0    0.0    0.0    0.0    0.0    0.0  \n",
       "2    0.0    0.0    0.0    0.0    0.0    0.0    0.0    0.0    0.0    0.0  \n",
       "3    0.0    0.0    0.0    0.0    0.0    0.0    0.0    0.0    0.0    0.0  \n",
       "4    0.0    0.0    0.0    0.0    0.0    0.0    0.0    0.0    0.0    0.0  \n",
       "5    0.0    0.0    0.0    0.0    0.0    0.0    0.0    0.0    0.0    0.0  \n",
       "6    0.0    0.0    0.0    0.0    0.0    0.0    0.0    0.0    0.0    0.0  \n",
       "7    0.0    0.0    0.0    0.0    0.0    0.0    0.0    0.0    0.0    0.0  \n",
       "8    0.0    0.0    0.0    0.0    0.0    0.0    0.0    0.0    0.0    0.0  \n",
       "9    0.0    0.0    0.0    0.0    0.0    0.0    0.0    0.0    0.0    0.0  \n",
       "\n",
       "[10 rows x 22605 columns]"
      ]
     },
     "execution_count": 11,
     "metadata": {},
     "output_type": "execute_result"
    }
   ],
   "source": [
    "# store the tf-idf array into pandas dataframe\n",
    "df = pd.DataFrame(array)\n",
    "df.head(10)"
   ]
  },
  {
   "cell_type": "code",
   "execution_count": 12,
   "metadata": {},
   "outputs": [
    {
     "data": {
      "text/html": [
       "<div>\n",
       "<style scoped>\n",
       "    .dataframe tbody tr th:only-of-type {\n",
       "        vertical-align: middle;\n",
       "    }\n",
       "\n",
       "    .dataframe tbody tr th {\n",
       "        vertical-align: top;\n",
       "    }\n",
       "\n",
       "    .dataframe thead th {\n",
       "        text-align: right;\n",
       "    }\n",
       "</style>\n",
       "<table border=\"1\" class=\"dataframe\">\n",
       "  <thead>\n",
       "    <tr style=\"text-align: right;\">\n",
       "      <th></th>\n",
       "      <th>0</th>\n",
       "      <th>1</th>\n",
       "      <th>2</th>\n",
       "      <th>3</th>\n",
       "      <th>4</th>\n",
       "      <th>5</th>\n",
       "      <th>6</th>\n",
       "      <th>7</th>\n",
       "      <th>8</th>\n",
       "      <th>9</th>\n",
       "      <th>...</th>\n",
       "      <th>22596</th>\n",
       "      <th>22597</th>\n",
       "      <th>22598</th>\n",
       "      <th>22599</th>\n",
       "      <th>22600</th>\n",
       "      <th>22601</th>\n",
       "      <th>22602</th>\n",
       "      <th>22603</th>\n",
       "      <th>22604</th>\n",
       "      <th>output</th>\n",
       "    </tr>\n",
       "  </thead>\n",
       "  <tbody>\n",
       "    <tr>\n",
       "      <th>0</th>\n",
       "      <td>0.0</td>\n",
       "      <td>0.0</td>\n",
       "      <td>0.0</td>\n",
       "      <td>0.0</td>\n",
       "      <td>0.0</td>\n",
       "      <td>0.0</td>\n",
       "      <td>0.0</td>\n",
       "      <td>0.0</td>\n",
       "      <td>0.0</td>\n",
       "      <td>0.0</td>\n",
       "      <td>...</td>\n",
       "      <td>0.0</td>\n",
       "      <td>0.0</td>\n",
       "      <td>0.0</td>\n",
       "      <td>0.0</td>\n",
       "      <td>0.0</td>\n",
       "      <td>0.0</td>\n",
       "      <td>0.0</td>\n",
       "      <td>0.0</td>\n",
       "      <td>0.0</td>\n",
       "      <td>0</td>\n",
       "    </tr>\n",
       "    <tr>\n",
       "      <th>1</th>\n",
       "      <td>0.0</td>\n",
       "      <td>0.0</td>\n",
       "      <td>0.0</td>\n",
       "      <td>0.0</td>\n",
       "      <td>0.0</td>\n",
       "      <td>0.0</td>\n",
       "      <td>0.0</td>\n",
       "      <td>0.0</td>\n",
       "      <td>0.0</td>\n",
       "      <td>0.0</td>\n",
       "      <td>...</td>\n",
       "      <td>0.0</td>\n",
       "      <td>0.0</td>\n",
       "      <td>0.0</td>\n",
       "      <td>0.0</td>\n",
       "      <td>0.0</td>\n",
       "      <td>0.0</td>\n",
       "      <td>0.0</td>\n",
       "      <td>0.0</td>\n",
       "      <td>0.0</td>\n",
       "      <td>1</td>\n",
       "    </tr>\n",
       "    <tr>\n",
       "      <th>2</th>\n",
       "      <td>0.0</td>\n",
       "      <td>0.0</td>\n",
       "      <td>0.0</td>\n",
       "      <td>0.0</td>\n",
       "      <td>0.0</td>\n",
       "      <td>0.0</td>\n",
       "      <td>0.0</td>\n",
       "      <td>0.0</td>\n",
       "      <td>0.0</td>\n",
       "      <td>0.0</td>\n",
       "      <td>...</td>\n",
       "      <td>0.0</td>\n",
       "      <td>0.0</td>\n",
       "      <td>0.0</td>\n",
       "      <td>0.0</td>\n",
       "      <td>0.0</td>\n",
       "      <td>0.0</td>\n",
       "      <td>0.0</td>\n",
       "      <td>0.0</td>\n",
       "      <td>0.0</td>\n",
       "      <td>0</td>\n",
       "    </tr>\n",
       "    <tr>\n",
       "      <th>3</th>\n",
       "      <td>0.0</td>\n",
       "      <td>0.0</td>\n",
       "      <td>0.0</td>\n",
       "      <td>0.0</td>\n",
       "      <td>0.0</td>\n",
       "      <td>0.0</td>\n",
       "      <td>0.0</td>\n",
       "      <td>0.0</td>\n",
       "      <td>0.0</td>\n",
       "      <td>0.0</td>\n",
       "      <td>...</td>\n",
       "      <td>0.0</td>\n",
       "      <td>0.0</td>\n",
       "      <td>0.0</td>\n",
       "      <td>0.0</td>\n",
       "      <td>0.0</td>\n",
       "      <td>0.0</td>\n",
       "      <td>0.0</td>\n",
       "      <td>0.0</td>\n",
       "      <td>0.0</td>\n",
       "      <td>1</td>\n",
       "    </tr>\n",
       "    <tr>\n",
       "      <th>4</th>\n",
       "      <td>0.0</td>\n",
       "      <td>0.0</td>\n",
       "      <td>0.0</td>\n",
       "      <td>0.0</td>\n",
       "      <td>0.0</td>\n",
       "      <td>0.0</td>\n",
       "      <td>0.0</td>\n",
       "      <td>0.0</td>\n",
       "      <td>0.0</td>\n",
       "      <td>0.0</td>\n",
       "      <td>...</td>\n",
       "      <td>0.0</td>\n",
       "      <td>0.0</td>\n",
       "      <td>0.0</td>\n",
       "      <td>0.0</td>\n",
       "      <td>0.0</td>\n",
       "      <td>0.0</td>\n",
       "      <td>0.0</td>\n",
       "      <td>0.0</td>\n",
       "      <td>0.0</td>\n",
       "      <td>0</td>\n",
       "    </tr>\n",
       "    <tr>\n",
       "      <th>5</th>\n",
       "      <td>0.0</td>\n",
       "      <td>0.0</td>\n",
       "      <td>0.0</td>\n",
       "      <td>0.0</td>\n",
       "      <td>0.0</td>\n",
       "      <td>0.0</td>\n",
       "      <td>0.0</td>\n",
       "      <td>0.0</td>\n",
       "      <td>0.0</td>\n",
       "      <td>0.0</td>\n",
       "      <td>...</td>\n",
       "      <td>0.0</td>\n",
       "      <td>0.0</td>\n",
       "      <td>0.0</td>\n",
       "      <td>0.0</td>\n",
       "      <td>0.0</td>\n",
       "      <td>0.0</td>\n",
       "      <td>0.0</td>\n",
       "      <td>0.0</td>\n",
       "      <td>0.0</td>\n",
       "      <td>0</td>\n",
       "    </tr>\n",
       "    <tr>\n",
       "      <th>6</th>\n",
       "      <td>0.0</td>\n",
       "      <td>0.0</td>\n",
       "      <td>0.0</td>\n",
       "      <td>0.0</td>\n",
       "      <td>0.0</td>\n",
       "      <td>0.0</td>\n",
       "      <td>0.0</td>\n",
       "      <td>0.0</td>\n",
       "      <td>0.0</td>\n",
       "      <td>0.0</td>\n",
       "      <td>...</td>\n",
       "      <td>0.0</td>\n",
       "      <td>0.0</td>\n",
       "      <td>0.0</td>\n",
       "      <td>0.0</td>\n",
       "      <td>0.0</td>\n",
       "      <td>0.0</td>\n",
       "      <td>0.0</td>\n",
       "      <td>0.0</td>\n",
       "      <td>0.0</td>\n",
       "      <td>1</td>\n",
       "    </tr>\n",
       "    <tr>\n",
       "      <th>7</th>\n",
       "      <td>0.0</td>\n",
       "      <td>0.0</td>\n",
       "      <td>0.0</td>\n",
       "      <td>0.0</td>\n",
       "      <td>0.0</td>\n",
       "      <td>0.0</td>\n",
       "      <td>0.0</td>\n",
       "      <td>0.0</td>\n",
       "      <td>0.0</td>\n",
       "      <td>0.0</td>\n",
       "      <td>...</td>\n",
       "      <td>0.0</td>\n",
       "      <td>0.0</td>\n",
       "      <td>0.0</td>\n",
       "      <td>0.0</td>\n",
       "      <td>0.0</td>\n",
       "      <td>0.0</td>\n",
       "      <td>0.0</td>\n",
       "      <td>0.0</td>\n",
       "      <td>0.0</td>\n",
       "      <td>0</td>\n",
       "    </tr>\n",
       "    <tr>\n",
       "      <th>8</th>\n",
       "      <td>0.0</td>\n",
       "      <td>0.0</td>\n",
       "      <td>0.0</td>\n",
       "      <td>0.0</td>\n",
       "      <td>0.0</td>\n",
       "      <td>0.0</td>\n",
       "      <td>0.0</td>\n",
       "      <td>0.0</td>\n",
       "      <td>0.0</td>\n",
       "      <td>0.0</td>\n",
       "      <td>...</td>\n",
       "      <td>0.0</td>\n",
       "      <td>0.0</td>\n",
       "      <td>0.0</td>\n",
       "      <td>0.0</td>\n",
       "      <td>0.0</td>\n",
       "      <td>0.0</td>\n",
       "      <td>0.0</td>\n",
       "      <td>0.0</td>\n",
       "      <td>0.0</td>\n",
       "      <td>0</td>\n",
       "    </tr>\n",
       "    <tr>\n",
       "      <th>9</th>\n",
       "      <td>0.0</td>\n",
       "      <td>0.0</td>\n",
       "      <td>0.0</td>\n",
       "      <td>0.0</td>\n",
       "      <td>0.0</td>\n",
       "      <td>0.0</td>\n",
       "      <td>0.0</td>\n",
       "      <td>0.0</td>\n",
       "      <td>0.0</td>\n",
       "      <td>0.0</td>\n",
       "      <td>...</td>\n",
       "      <td>0.0</td>\n",
       "      <td>0.0</td>\n",
       "      <td>0.0</td>\n",
       "      <td>0.0</td>\n",
       "      <td>0.0</td>\n",
       "      <td>0.0</td>\n",
       "      <td>0.0</td>\n",
       "      <td>0.0</td>\n",
       "      <td>0.0</td>\n",
       "      <td>0</td>\n",
       "    </tr>\n",
       "  </tbody>\n",
       "</table>\n",
       "<p>10 rows × 22606 columns</p>\n",
       "</div>"
      ],
      "text/plain": [
       "     0    1    2    3    4    5    6    7    8    9  ...  22596  22597  22598  \\\n",
       "0  0.0  0.0  0.0  0.0  0.0  0.0  0.0  0.0  0.0  0.0  ...    0.0    0.0    0.0   \n",
       "1  0.0  0.0  0.0  0.0  0.0  0.0  0.0  0.0  0.0  0.0  ...    0.0    0.0    0.0   \n",
       "2  0.0  0.0  0.0  0.0  0.0  0.0  0.0  0.0  0.0  0.0  ...    0.0    0.0    0.0   \n",
       "3  0.0  0.0  0.0  0.0  0.0  0.0  0.0  0.0  0.0  0.0  ...    0.0    0.0    0.0   \n",
       "4  0.0  0.0  0.0  0.0  0.0  0.0  0.0  0.0  0.0  0.0  ...    0.0    0.0    0.0   \n",
       "5  0.0  0.0  0.0  0.0  0.0  0.0  0.0  0.0  0.0  0.0  ...    0.0    0.0    0.0   \n",
       "6  0.0  0.0  0.0  0.0  0.0  0.0  0.0  0.0  0.0  0.0  ...    0.0    0.0    0.0   \n",
       "7  0.0  0.0  0.0  0.0  0.0  0.0  0.0  0.0  0.0  0.0  ...    0.0    0.0    0.0   \n",
       "8  0.0  0.0  0.0  0.0  0.0  0.0  0.0  0.0  0.0  0.0  ...    0.0    0.0    0.0   \n",
       "9  0.0  0.0  0.0  0.0  0.0  0.0  0.0  0.0  0.0  0.0  ...    0.0    0.0    0.0   \n",
       "\n",
       "   22599  22600  22601  22602  22603  22604  output  \n",
       "0    0.0    0.0    0.0    0.0    0.0    0.0       0  \n",
       "1    0.0    0.0    0.0    0.0    0.0    0.0       1  \n",
       "2    0.0    0.0    0.0    0.0    0.0    0.0       0  \n",
       "3    0.0    0.0    0.0    0.0    0.0    0.0       1  \n",
       "4    0.0    0.0    0.0    0.0    0.0    0.0       0  \n",
       "5    0.0    0.0    0.0    0.0    0.0    0.0       0  \n",
       "6    0.0    0.0    0.0    0.0    0.0    0.0       1  \n",
       "7    0.0    0.0    0.0    0.0    0.0    0.0       0  \n",
       "8    0.0    0.0    0.0    0.0    0.0    0.0       0  \n",
       "9    0.0    0.0    0.0    0.0    0.0    0.0       0  \n",
       "\n",
       "[10 rows x 22606 columns]"
      ]
     },
     "execution_count": 12,
     "metadata": {},
     "output_type": "execute_result"
    }
   ],
   "source": [
    "#Adding the output to the dataframe\n",
    "\n",
    "df['output'] = patient_conversations['Pat_Tag']\n",
    "#df['id'] = data['id']\n",
    "df.head(10)"
   ]
  },
  {
   "cell_type": "code",
   "execution_count": 13,
   "metadata": {},
   "outputs": [],
   "source": [
    "#### Tuning Multinomial Naive Bayes Classifier¶"
   ]
  },
  {
   "cell_type": "code",
   "execution_count": 14,
   "metadata": {},
   "outputs": [],
   "source": [
    "features = df.columns.tolist()\n",
    "output = 'output'\n",
    "# removing the output and the id from features\n",
    "features.remove(output)"
   ]
  },
  {
   "cell_type": "code",
   "execution_count": 15,
   "metadata": {},
   "outputs": [],
   "source": [
    "from sklearn.naive_bayes import GaussianNB, BernoulliNB, MultinomialNB\n",
    "from sklearn.neighbors import KNeighborsClassifier\n",
    "from sklearn.tree import DecisionTreeClassifier\n",
    "from sklearn.metrics import accuracy_score, log_loss\n",
    "from sklearn.model_selection import GridSearchCV"
   ]
  },
  {
   "cell_type": "code",
   "execution_count": 16,
   "metadata": {},
   "outputs": [
    {
     "data": {
      "text/plain": [
       "array([0.006 , 0.0109, 0.0159, 0.0208, 0.0258, 0.0307, 0.0357, 0.0406,\n",
       "       0.0456, 0.0505, 0.0555, 0.0604, 0.0654, 0.0703, 0.0753, 0.0802,\n",
       "       0.0852, 0.0901, 0.0951, 0.1   ])"
      ]
     },
     "execution_count": 16,
     "metadata": {},
     "output_type": "execute_result"
    }
   ],
   "source": [
    "alpha_list1 = np.linspace(0.006, 0.1, 20)\n",
    "alpha_list1 = np.around(alpha_list1, decimals=4)\n",
    "alpha_list1"
   ]
  },
  {
   "cell_type": "code",
   "execution_count": 17,
   "metadata": {},
   "outputs": [],
   "source": [
    "# parameter grid\n",
    "parameter_grid = [{\"alpha\":alpha_list1}]"
   ]
  },
  {
   "cell_type": "code",
   "execution_count": 18,
   "metadata": {},
   "outputs": [
    {
     "data": {
      "text/plain": [
       "GridSearchCV(cv=4, error_score='raise-deprecating',\n",
       "       estimator=MultinomialNB(alpha=1.0, class_prior=None, fit_prior=True),\n",
       "       fit_params=None, iid='warn', n_jobs=None,\n",
       "       param_grid=[{'alpha': array([0.006 , 0.0109, 0.0159, 0.0208, 0.0258, 0.0307, 0.0357, 0.0406,\n",
       "       0.0456, 0.0505, 0.0555, 0.0604, 0.0654, 0.0703, 0.0753, 0.0802,\n",
       "       0.0852, 0.0901, 0.0951, 0.1   ])}],\n",
       "       pre_dispatch='2*n_jobs', refit=True, return_train_score='warn',\n",
       "       scoring='neg_log_loss', verbose=0)"
      ]
     },
     "execution_count": 18,
     "metadata": {},
     "output_type": "execute_result"
    }
   ],
   "source": [
    "# classifier object\n",
    "classifier1 = MultinomialNB()\n",
    "# gridsearch object using 4 fold cross validation and neg_log_loss as scoring paramter\n",
    "gridsearch1 = GridSearchCV(classifier1,parameter_grid, scoring = 'neg_log_loss', cv = 4)\n",
    "# fit the gridsearch\n",
    "gridsearch1.fit(df[features], df[output])"
   ]
  },
  {
   "cell_type": "code",
   "execution_count": 19,
   "metadata": {},
   "outputs": [],
   "source": [
    "results1 = pd.DataFrame()\n",
    "# collect alpha list\n",
    "results1['alpha'] = gridsearch1.cv_results_['param_alpha'].data\n",
    "# collect test scores\n",
    "results1['neglogloss'] = gridsearch1.cv_results_['mean_test_score'].data"
   ]
  },
  {
   "cell_type": "code",
   "execution_count": 21,
   "metadata": {},
   "outputs": [
    {
     "data": {
      "image/png": "[encoded data removed]",
      "text/plain": [
       "<Figure size 864x432 with 1 Axes>"
      ]
     },
     "metadata": {
      "needs_background": "light"
     },
     "output_type": "display_data"
    }
   ],
   "source": [
    "import matplotlib\n",
    "import matplotlib.pyplot as plt\n",
    "matplotlib.rcParams['figure.figsize'] = (12.0, 6.0)\n",
    "plt.plot(results1['alpha'], -results1['neglogloss'])\n",
    "plt.xlabel('alpha')\n",
    "plt.ylabel('logloss')\n",
    "plt.grid()"
   ]
  },
  {
   "cell_type": "code",
   "execution_count": 22,
   "metadata": {},
   "outputs": [
    {
     "name": "stdout",
     "output_type": "stream",
     "text": [
      "Best parameter:  {'alpha': 0.0753}\n"
     ]
    }
   ],
   "source": [
    "print(\"Best parameter: \",gridsearch1.best_params_)"
   ]
  },
  {
   "cell_type": "code",
   "execution_count": 23,
   "metadata": {},
   "outputs": [
    {
     "name": "stdout",
     "output_type": "stream",
     "text": [
      "Best score:  -0.3046008850133003\n"
     ]
    }
   ],
   "source": [
    "print(\"Best score: \",gridsearch1.best_score_) "
   ]
  },
  {
   "cell_type": "code",
   "execution_count": 24,
   "metadata": {},
   "outputs": [
    {
     "data": {
      "text/plain": [
       "array([0.006 , 0.0109, 0.0159, 0.0208, 0.0258, 0.0307, 0.0357, 0.0406,\n",
       "       0.0456, 0.0505, 0.0555, 0.0604, 0.0654, 0.0703, 0.0753, 0.0802,\n",
       "       0.0852, 0.0901, 0.0951, 0.1   ])"
      ]
     },
     "execution_count": 24,
     "metadata": {},
     "output_type": "execute_result"
    }
   ],
   "source": [
    "alpha_list2 = np.linspace(0.006, 0.1, 20)\n",
    "alpha_list2 = np.around(alpha_list2, decimals=4)\n",
    "alpha_list2"
   ]
  },
  {
   "cell_type": "code",
   "execution_count": 25,
   "metadata": {},
   "outputs": [],
   "source": [
    "parameter_grid = [{\"alpha\":alpha_list2}]"
   ]
  },
  {
   "cell_type": "code",
   "execution_count": 26,
   "metadata": {},
   "outputs": [
    {
     "data": {
      "text/plain": [
       "GridSearchCV(cv=4, error_score='raise-deprecating',\n",
       "       estimator=MultinomialNB(alpha=1.0, class_prior=None, fit_prior=True),\n",
       "       fit_params=None, iid='warn', n_jobs=None,\n",
       "       param_grid=[{'alpha': array([0.006 , 0.0109, 0.0159, 0.0208, 0.0258, 0.0307, 0.0357, 0.0406,\n",
       "       0.0456, 0.0505, 0.0555, 0.0604, 0.0654, 0.0703, 0.0753, 0.0802,\n",
       "       0.0852, 0.0901, 0.0951, 0.1   ])}],\n",
       "       pre_dispatch='2*n_jobs', refit=True, return_train_score='warn',\n",
       "       scoring='neg_log_loss', verbose=0)"
      ]
     },
     "execution_count": 26,
     "metadata": {},
     "output_type": "execute_result"
    }
   ],
   "source": [
    "# classifier object\n",
    "classifier2 = MultinomialNB()\n",
    "# gridsearch object using 4 fold cross validation and neg_log_loss as scoring paramter\n",
    "gridsearch2 = GridSearchCV(classifier2,parameter_grid, scoring = 'neg_log_loss', cv = 4)\n",
    "# fit the gridsearch\n",
    "gridsearch2.fit(df[features], df[output])"
   ]
  },
  {
   "cell_type": "code",
   "execution_count": 27,
   "metadata": {},
   "outputs": [],
   "source": [
    "results2 = pd.DataFrame()\n",
    "# collect alpha list\n",
    "results2['alpha'] = gridsearch2.cv_results_['param_alpha'].data\n",
    "# collect test scores\n",
    "results2['neglogloss'] = gridsearch2.cv_results_['mean_test_score'].data"
   ]
  },
  {
   "cell_type": "code",
   "execution_count": 28,
   "metadata": {},
   "outputs": [
    {
     "data": {
      "image/png": "[encoded data removed]",
      "text/plain": [
       "<Figure size 864x432 with 1 Axes>"
      ]
     },
     "metadata": {
      "needs_background": "light"
     },
     "output_type": "display_data"
    }
   ],
   "source": [
    "matplotlib.rcParams['figure.figsize'] = (12.0, 6.0)\n",
    "plt.plot(results2['alpha'], -results2['neglogloss'])\n",
    "plt.xlabel('alpha')\n",
    "plt.ylabel('logloss')\n",
    "plt.grid()"
   ]
  },
  {
   "cell_type": "code",
   "execution_count": 29,
   "metadata": {},
   "outputs": [
    {
     "name": "stdout",
     "output_type": "stream",
     "text": [
      "Best parameter:  {'alpha': 0.0753}\n"
     ]
    }
   ],
   "source": [
    "print(\"Best parameter: \",gridsearch2.best_params_)\n"
   ]
  },
  {
   "cell_type": "code",
   "execution_count": 30,
   "metadata": {},
   "outputs": [
    {
     "name": "stdout",
     "output_type": "stream",
     "text": [
      "Best score:  -0.3046008850133003\n"
     ]
    }
   ],
   "source": [
    "print(\"Best score: \",gridsearch2.best_score_)"
   ]
  },
  {
   "cell_type": "markdown",
   "metadata": {},
   "source": [
    "###  Train data "
   ]
  },
  {
   "cell_type": "code",
   "execution_count": 31,
   "metadata": {},
   "outputs": [
    {
     "data": {
      "text/plain": [
       "0    disagree principle saying entresto major failu...\n",
       "1    always dizzy get dizzy standing made get slow ...\n",
       "2    axelle bauer griffin filmmagic new york queen ...\n",
       "Name: Text, dtype: object"
      ]
     },
     "execution_count": 31,
     "metadata": {},
     "output_type": "execute_result"
    }
   ],
   "source": [
    "df_x.head(3)"
   ]
  },
  {
   "cell_type": "markdown",
   "metadata": {},
   "source": [
    "#### Test data"
   ]
  },
  {
   "cell_type": "code",
   "execution_count": 32,
   "metadata": {},
   "outputs": [
    {
     "data": {
      "text/plain": [
       "0    0\n",
       "1    1\n",
       "2    0\n",
       "Name: Pat_Tag, dtype: int64"
      ]
     },
     "execution_count": 32,
     "metadata": {},
     "output_type": "execute_result"
    }
   ],
   "source": [
    "y.head(3)"
   ]
  },
  {
   "cell_type": "markdown",
   "metadata": {},
   "source": [
    "## Training Dataset"
   ]
  },
  {
   "cell_type": "markdown",
   "metadata": {},
   "source": [
    "### Train-Test Split"
   ]
  },
  {
   "cell_type": "code",
   "execution_count": 33,
   "metadata": {},
   "outputs": [],
   "source": [
    "from sklearn import model_selection, naive_bayes, svm\n",
    "Train_X, Test_X, Train_Y, Test_Y = model_selection.train_test_split(df_x,y,test_size=0.3)"
   ]
  },
  {
   "cell_type": "code",
   "execution_count": 34,
   "metadata": {},
   "outputs": [],
   "source": [
    "Tfidf_vect = TfidfVectorizer(max_features=5000)\n",
    "Tfidf_vect.fit(df_x)\n",
    "Train_X_Tfidf = Tfidf_vect.transform(Train_X)\n",
    "Test_X_Tfidf = Tfidf_vect.transform(Test_X)"
   ]
  },
  {
   "cell_type": "markdown",
   "metadata": {},
   "source": [
    "### TF-IDF model Vocabularies"
   ]
  },
  {
   "cell_type": "code",
   "execution_count": 35,
   "metadata": {},
   "outputs": [
    {
     "name": "stdout",
     "output_type": "stream",
     "text": [
      "{'principle': 3462, 'saying': 3932, 'entresto': 1514, 'major': 2678, 'failure': 1672, 'novartis': 3024, 'commercial': 875, 'totally': 4595, 'exposed': 1635, 'call': 624, 'issues': 2379, 'resolved': 3814, 'true': 4662, 'underlying': 4711, 'problem': 3472, 'failed': 1669, 'create': 1054, 'demand': 1186, 'drug': 1379, 'disease': 1303, 'awareness': 394, 'campaign': 633, 'us': 4750, 'drowning': 1377, 'man': 2689, 'incredibly': 2256, 'poor': 3370, 'fear': 1704, 'panic': 3185, 'wrong': 4974, 'condition': 930, 'raising': 3622, 'life': 2555, 'threatening': 4537, 'acute': 64, 'heart': 2052, 'instead': 2320, 'chronic': 787, 'indicated': 2264, 'nothing': 3020, 'treatment': 4639, 'due': 1384, 'shocking': 4060, 'lack': 2472, 'knowledge': 2458, 'area': 289, 'explained': 1631, 'conscious': 950, 'misleading': 2850, 'patients': 3226, 'managed': 2691, 'medical': 2766, 'community': 888, 'groups': 1989, 'top': 4590, 'including': 2246, 'principal': 3461, 'investigator': 2361, 'trials': 4647, 'publicly': 3562, 'expressed': 1637, 'concerns': 925, 'provides': 3552, 'actually': 63, 'happened': 2020, 'strategic': 4292, 'marketing': 2712, 'team': 4469, 'go': 1932, 'market': 2711, 'model': 2868, 'based': 423, 'assumptions': 339, 'kept': 2430, 'going': 1937, 'direction': 1287, 'completely': 905, 'extent': 1643, 'typical': 4691, 'example': 1592, 'frequently': 1844, 'confidence': 937, 'analysts': 216, 'challenging': 728, 'public': 3560, 'knows': 2460, 'long': 2608, 'would': 4964, 'continued': 984, 'leading': 2516, 'cardiovascular': 663, 'company': 891, 'launch': 2498, 'primary': 3457, 'care': 665, 'product': 3486, 'discovered': 1297, 'new': 2986, 'low': 2632, 'david': 1125, 'let': 2541, 'people': 3249, 'known': 2459, 'better': 467, 'hands': 2016, 'management': 2692, 'style': 4324, 'work': 4949, 'pharma': 3280, 'contrast': 991, 'oncology': 3093, 'toxic': 4600, 'culture': 1078, 'yes': 4988, 'required': 3801, 'promotion': 3517, 'strange': 4291, 'though': 4530, 'many': 2701, 'years': 4985, 'positions': 3379, 'seemingly': 3986, 'stayed': 4259, 'least': 2525, 'looks': 2615, 'outside': 3146, 'always': 194, 'dizzy': 1325, 'get': 1905, 'standing': 4239, 'made': 2666, 'slow': 4135, 'turn': 4678, 'around': 296, 'head': 2037, 'check': 751, 'blood': 522, 'pressure': 3441, 'every': 1573, 'day': 1127, 'usually': 4761, 'told': 4577, 'normal': 3012, 'england': 1496, 'hospital': 2129, 'called': 625, 'cancer': 637, 'heard': 2050, 'hearts': 2056, 'monday': 2883, 'make': 2680, 'mission': 2854, 'find': 1758, 'one': 3094, 'york': 4992, 'queen': 3598, 'latifah': 2495, 'taking': 4447, 'matters': 2733, 'literally': 2589, 'joined': 2407, 'forces': 1806, 'american': 200, 'association': 336, 'red': 3697, 'steps': 4270, 'idea': 2186, 'post': 3384, 'photos': 3294, 'wearing': 4884, 'become': 442, 'physically': 3298, 'active': 53, 'raise': 3619, 'risks': 3875, 'symptoms': 4425, 'goal': 1933, 'six': 4122, 'million': 2831, 'nearly': 2965, 'americans': 201, 'living': 2597, 'born': 544, 'effort': 1434, 'personal': 3274, 'mother': 2904, 'autoimmune': 372, 'caused': 692, 'scar': 3937, 'tissue': 4567, 'build': 595, 'lungs': 2647, 'year': 4984, 'old': 3089, 'former': 1817, 'also': 187, 'pulmonary': 3569, 'hypertension': 2171, 'ability': 4, 'breathe': 569, 'way': 4876, 'show': 4074, 'support': 4378, 'dealing': 1137, 'radio': 3617, 'said': 3912, 'approval': 283, 'getting': 1907, 'involved': 2366, 'really': 3666, 'wanted': 4857, 'positive': 3380, 'puts': 3584, 'things': 4522, 'something': 4172, 'family': 1687, 'like': 2564, 'share': 4047, 'realize': 3664, 'talking': 4450, 'lot': 2625, 'reaching': 3648, 'turned': 4679, 'actress': 60, 'says': 3933, 'helped': 2067, 'healthy': 2047, 'perfect': 3258, 'comes': 869, 'staying': 4260, 'fit': 1770, 'constantly': 963, 'time': 4557, 'shared': 4048, 'reminds': 3767, 'alone': 182, 'helping': 2069, 'sometimes': 4173, 'right': 3868, 'group': 1988, 'friends': 1848, 'copyright': 1014, 'rights': 3869, 'reserved': 3808, 'almost': 180, 'everyday': 1575, 'thrown': 4548, 'twice': 4685, 'matter': 2732, 'weeks': 4893, 'parents': 3194, 'want': 4856, 'take': 4443, 'see': 3979, 'doctor': 1332, 'think': 4523, 'give': 1916, 'pain': 3176, 'whereas': 4909, 'know': 2456, 'eat': 1405, 'normally': 3013, 'eating': 1406, 'whole': 4912, 'feel': 1714, 'hungry': 2163, 'weigh': 4894, 'pounds': 3394, 'feet': 1717, 'inches': 2240, 'thought': 4531, 'could': 1031, 'stop': 4282, 'please': 3349, 'help': 2066, 'answer': 236, 'good': 1944, 'face': 1652, 'need': 2969, 'learn': 2522, 'little': 2592, 'bulimia': 600, 'free': 1839, 'food': 1800, 'psychological': 3557, 'disorder': 1307, 'treating': 4638, 'disorders': 1308, 'however': 2142, 'prescriptions': 3429, 'may': 2738, 'suggested': 4357, 'certain': 716, 'levels': 2545, 'back': 399, 'order': 3120, 'works': 4954, 'together': 4576, 'illness': 2201, 'therapies': 4512, 'consciousness': 951, 'anything': 254, 'else': 1459, 'assist': 330, 'balance': 408, 'serious': 4018, 'result': 3835, 'without': 4937, 'warning': 4865, 'case': 681, 'described': 1212, 'high': 2088, 'chance': 733, 'esophageal': 1539, 'victim': 4809, 'dies': 1264, 'bodily': 534, 'fluids': 1787, 'often': 3081, 'within': 4936, 'minutes': 2845, 'electrolyte': 1450, 'cause': 691, 'famous': 1688, 'woman': 4940, 'coma': 863, 'decade': 1145, 'resulted': 3836, 'imagine': 2206, 'ten': 4487, 'stomach': 4278, 'acids': 44, 'away': 395, 'areas': 290, 'esophagus': 1540, 'increased': 2251, 'greatly': 1978, 'even': 1567, 'stops': 4285, 'throat': 4540, 'mouth': 2910, 'cancers': 638, 'losing': 2621, 'voice': 4834, 'box': 553, 'part': 3197, 'worth': 4963, 'increases': 2252, 'chances': 734, 'intestinal': 2351, 'problems': 3473, 'loss': 2622, 'much': 2922, 'room': 3890, 'seriously': 4019, 'value': 4771, 'fight': 1739, 'ask': 316, 'school': 3947, 'seek': 3982, 'clinic': 820, 'stay': 4258, 'strong': 4307, 'smart': 4141, 'www': 4976, 'info': 2287, 'follow': 1795, 'quote': 3610, 'originally': 3130, 'posted': 3385, 'wake': 4848, 'friend': 1847, 'plasma': 3338, 'hf': 2082, 'start': 4244, 'pc': 3236, 'skip': 4128, 'beat': 437, 'read': 3651, 'fact': 1662, 'creating': 1057, 'spike': 4212, 'facts': 1666, 'straight': 4289, 'first': 1768, 'discussion': 1302, 'power': 3395, 'extract': 1646, 'makes': 2683, 'brief': 576, 'aside': 315, 'position': 3378, 'roughly': 3892, 'three': 4538, 'ventilation': 4791, 'flow': 1783, 'enough': 1505, 'pump': 3571, 'middle': 2819, 'fluid': 1786, 'higher': 2089, 'opening': 3104, 'bronchioles': 585, 'alveoli': 193, 'gas': 1877, 'exchange': 1599, 'takes': 4446, 'place': 3324, 'dependent': 1200, 'basic': 425, 'physics': 3301, 'volume': 4836, 'air': 155, 'airways': 158, 'participate': 3201, 'combined': 866, 'zone': 4999, 'dead': 1134, 'space': 4192, 'amounts': 208, 'breath': 568, 'assume': 337, 'change': 735, 'gets': 1906, 'smaller': 4140, 'bigger': 472, 'large': 2482, 'individual': 2270, 'lower': 2633, 'pushed': 3581, 'system': 4430, 'circulation': 795, 'since': 4110, 'sleep': 4130, 'sitting': 4120, 'lung': 2646, 'function': 1856, 'respiratory': 3821, 'changed': 736, 'reasons': 3670, 'riding': 3867, 'tend': 4488, 'receptors': 3680, 'vessels': 4802, 'signal': 4092, 'load': 2598, 'body': 535, 'signals': 4093, 'kidneys': 2440, 'urine': 4749, 'course': 1042, 'got': 1948, 'diagnosed': 1250, 'congestive': 945, 'type': 4689, 'diabetes': 1245, 'smoked': 4145, 'ate': 342, 'quit': 3608, 'smoking': 4148, 'diet': 1265, 'rather': 3640, 'bag': 407, 'pack': 3168, 'addiction': 70, 'measurement': 2755, 'arteries': 304, 'resting': 3830, 'heartbeat': 2053, 'numbers': 3031, 'mean': 2746, 'systolic': 4434, 'number': 3030, 'reading': 3653, 'amount': 207, 'pumping': 3572, 'rest': 3828, 'diastolic': 1259, 'second': 3968, 'bottom': 548, 'refers': 3707, 'beats': 439, 'current': 1086, 'guidelines': 2001, 'identify': 2190, 'mm': 2864, 'hg': 2083, 'although': 191, 'accurate': 36, 'given': 1917, 'vary': 4779, 'considerably': 956, 'short': 4065, 'next': 2992, 'depending': 1201, 'breathing': 570, 'rhythm': 3860, 'stress': 4300, 'level': 2544, 'physical': 3297, 'medications': 2770, 'drink': 1365, 'lowest': 2637, 'night': 3000, 'rises': 3872, 'waking': 4849, 'considered': 958, 'someone': 4171, 'doctors': 1333, 'consider': 954, 'causes': 693, 'experts': 1629, 'define': 1169, 'readings': 3654, 'range': 3630, 'words': 4948, 'sudden': 4345, 'fall': 1678, 'dangerous': 1111, 'drop': 1373, 'dizziness': 1324, 'fainting': 1674, 'brain': 559, 'fails': 1671, 'receive': 3674, 'adequate': 78, 'supply': 4377, 'big': 471, 'especially': 1541, 'uncontrolled': 4708, 'bleeding': 506, 'severe': 4037, 'infections': 2279, 'allergic': 172, 'reactions': 3650, 'athletes': 344, 'exercise': 1605, 'regularly': 3728, 'slower': 4136, 'rate': 3638, 'general': 1889, 'maintain': 2675, 'weight': 4895, 'rare': 3635, 'sign': 4091, 'conditions': 931, 'include': 2243, 'pregnancy': 3416, 'circulatory': 796, 'rapidly': 3634, 'likely': 2566, 'pre': 3407, 'birth': 495, 'lead': 2512, 'extremely': 1648, 'valve': 4773, 'attack': 352, 'prevent': 3445, 'able': 6, 'endocrine': 1484, 'thyroid': 4551, 'insufficiency': 2324, 'sugar': 4353, 'cases': 682, 'trigger': 4652, 'dehydration': 1177, 'loses': 2620, 'water': 4874, 'mild': 2824, 'weakness': 4881, 'fatigue': 1698, 'fever': 1728, 'vomiting': 4838, 'diarrhea': 1258, 'diuretics': 1319, 'far': 1691, 'shock': 4058, 'complication': 908, 'occurs': 3068, 'reduction': 3702, 'oxygen': 3161, 'tissues': 4568, 'untreated': 4733, 'death': 1139, 'hours': 2139, 'injury': 2308, 'internal': 2341, 'reduces': 3700, 'infection': 2278, 'septicemia': 4016, 'happen': 2019, 'bloodstream': 523, 'reaction': 3649, 'anaphylaxis': 218, 'potentially': 3392, 'common': 882, 'triggers': 4654, 'foods': 1801, 'itching': 2380, 'swollen': 4420, 'nutrients': 3038, 'vitamins': 4830, 'produce': 3481, 'cells': 704, 'anemia': 221, 'causing': 694, 'pills': 3313, 'furosemide': 1866, 'lasix': 2486, 'alpha': 185, 'blockers': 518, 'beta': 466, 'propranolol': 3528, 'others': 3138, 'drugs': 1381, 'parkinson': 3196, 'containing': 978, 'types': 4690, 'antidepressants': 245, 'viagra': 4807, 'cialis': 791, 'particularly': 3205, 'combination': 865, 'medication': 2769, 'break': 562, 'hypotension': 2177, 'different': 1271, 'factors': 1664, 'orthostatic': 3133, 'stand': 4236, 'lying': 2654, 'pool': 3369, 'legs': 2536, 'whenever': 4908, 'increasing': 2253, 'thereby': 4515, 'ensuring': 1508, 'mechanism': 2760, 'falls': 1681, 'lightheadedness': 2561, 'vision': 4822, 'occur': 3065, 'variety': 4777, 'prolonged': 3511, 'bed': 445, 'excessive': 1598, 'heat': 2057, 'varicose': 4776, 'veins': 4788, 'neurological': 2981, 'used': 4753, 'treat': 4635, 'calcium': 618, 'channel': 739, 'angiotensin': 226, 'converting': 1005, 'enzyme': 1517, 'ace': 37, 'inhibitors': 2298, 'well': 4899, 'erectile': 1534, 'dysfunction': 1391, 'older': 3090, 'adults': 96, 'percent': 3254, 'age': 133, 'experiencing': 1625, 'affect': 119, 'young': 4993, 'otherwise': 3139, 'suddenly': 4346, 'periods': 3268, 'working': 4952, 'affects': 122, 'mostly': 2903, 'digestive': 1278, 'tract': 4607, 'mechanisms': 2761, 'fail': 1668, 'nervous': 2978, 'lowering': 2635, 'dose': 1350, 'small': 4139, 'meals': 2745, 'reduce': 3698, 'mediated': 2764, 'signs': 4099, 'nausea': 2955, 'seems': 3987, 'extended': 1640, 'nerves': 2977, 'left': 2531, 'ventricle': 4792, 'decreasing': 1159, 'less': 2539, 'reach': 3646, 'damage': 1106, 'multiple': 2925, 'syndrome': 4427, 'progressive': 3504, 'controls': 1000, 'functions': 1859, 'associated': 334, 'muscle': 2929, 'movement': 2913, 'coordination': 1010, 'speech': 4207, 'main': 2673, 'generally': 1890, 'concern': 922, 'term': 4492, 'rarely': 3636, 'decreased': 1157, 'risk': 3874, 'developing': 1238, 'health': 2043, 'indicate': 2263, 'widespread': 4916, 'dramatic': 1360, 'additional': 73, 'difficulty': 1276, 'swelling': 4417, 'tongue': 4585, 'cramps': 1050, 'response': 3825, 'herbs': 2077, 'supplements': 4376, 'allergies': 173, 'person': 3273, 'complications': 909, 'surgery': 4392, 'severity': 4039, 'depends': 1202, 'lost': 2624, 'releases': 3750, 'hormones': 2126, 'chemicals': 759, 'regulate': 3729, 'hypothyroidism': 2179, 'overactive': 3149, 'organs': 3128, 'fatal': 1696, 'several': 4036, 'circulating': 794, 'alcohol': 163, 'prescription': 3428, 'counter': 1035, 'taken': 4445, 'nutritional': 3040, 'vitamin': 4829, 'develop': 1235, 'decreases': 1158, 'quickly': 3606, 'five': 1773, 'points': 3362, 'throughout': 4547, 'extra': 1645, 'hard': 2025, 'starts': 4247, 'drops': 1376, 'dangerously': 1112, 'predict': 3411, 'events': 1570, 'angioplasty': 225, 'percutaneous': 3257, 'coronary': 1018, 'intervention': 2347, 'stroke': 4305, 'apnea': 262, 'according': 30, 'research': 3805, 'journal': 2411, 'open': 3102, 'access': 23, 'ago': 142, 'worse': 4959, 'manager': 2693, 'ever': 1572, 'self': 4000, 'hear': 2049, 'speak': 4195, 'conference': 936, 'calls': 627, 'believe': 454, 'nurse': 3034, 'single': 4114, 'nursing': 3036, 'quality': 3592, 'article': 307, 'already': 186, 'ankles': 230, 'series': 4017, 'andrew': 220, 'ward': 4860, 'london': 2607, 'atkins': 345, 'joe': 2402, 'jimenez': 2398, 'facing': 1661, 'battle': 431, 'restore': 3832, 'sent': 4011, 'shares': 4050, 'swiss': 4419, 'pharmaceuticals': 3282, 'quarter': 3594, 'past': 3216, 'sales': 3913, 'alcon': 166, 'business': 607, 'period': 3267, 'mr': 2918, 'took': 4587, 'charge': 745, 'legal': 2534, 'added': 69, 'faces': 1655, 'investigation': 2358, 'suspected': 4409, 'south': 4188, 'korea': 2462, 'recent': 3677, 'japan': 2392, 'china': 772, 'months': 2894, 'cut': 1092, 'growth': 1992, 'still': 4274, 'credit': 1059, 'investors': 2363, 'narrowed': 2944, 'built': 599, 'daniel': 1114, 'progress': 3502, 'towards': 4598, 'cutting': 1094, 'costs': 1027, 'announces': 232, 'results': 3838, 'thursday': 4549, 'unlikely': 4729, 'hanging': 2017, 'expect': 1616, 'profits': 3497, 'continues': 985, 'performance': 3262, 'mood': 2895, 'anticipated': 243, 'data': 1120, 'showing': 4078, 'deaths': 1140, 'clinical': 821, 'desperately': 1220, 'needed': 2970, 'patent': 3219, 'protection': 3537, 'best': 465, 'selling': 4003, 'gleevec': 1923, 'yet': 4990, 'expected': 1619, 'started': 4245, 'registered': 3724, 'final': 1755, 'forecast': 1808, 'huge': 2153, 'declined': 1154, 'comment': 873, 'ahead': 148, 'point': 3360, 'clear': 813, 'gain': 1870, 'target': 4453, 'peak': 3243, 'annual': 233, 'bn': 528, 'longer': 2609, 'last': 2487, 'month': 2892, 'worry': 4958, 'weak': 4879, 'times': 4560, 'two': 4687, 'cholesterol': 778, 'sanofi': 3920, 'stuck': 4315, 'evidence': 1579, 'insurers': 2327, 'healthcare': 2044, 'providers': 3551, 'becoming': 444, 'aggressive': 140, 'structural': 4310, 'changes': 737, 'increase': 2250, 'cost': 1026, 'contribution': 995, 'badly': 406, 'decline': 1153, 'transaction': 4620, 'completed': 904, 'announced': 231, 'unit': 4722, 'january': 2391, 'focus': 1789, 'contact': 975, 'surgical': 4393, 'equipment': 1529, 'eye': 1649, 'transferred': 4623, 'division': 1323, 'set': 4030, 'return': 3843, 'end': 1481, 'remained': 3758, 'rising': 3873, 'world': 4955, 'population': 3373, 'analyst': 215, 'sold': 4162, 'investigations': 2360, 'settlement': 4034, 'paid': 3175, 'securities': 3976, 'commission': 878, 'suspension': 4410, 'trial': 4646, 'biggest': 473, 'lawsuit': 2505, 'southern': 4189, 'district': 1316, 'separate': 4012, 'probability': 3469, 'another': 235, 'fine': 1763, 'similar': 4104, 'scale': 3934, 'record': 3689, 'department': 1198, 'might': 2820, 'harder': 2026, 'push': 3580, 'severely': 4038, 'impact': 2217, 'earnings': 1397, 'cast': 685, 'shadow': 4042, 'chairman': 725, 'ceo': 714, 'attempt': 354, 'clean': 811, 'chief': 768, 'officer': 3077, 'process': 3477, 'relations': 3740, 'challenges': 727, 'cosentyx': 1025, 'psoriasis': 3554, 'strongly': 4309, 'michael': 2815, 'shareholders': 4049, 'future': 1868, 'wrote': 4975, 'bay': 432, 'california': 623, 'scheduled': 3944, 'session': 4028, 'advance': 97, 'hit': 2101, 'fan': 1689, 'asked': 317, 'whether': 4910, 'hot': 2136, 'hour': 2138, 'acting': 48, 'sit': 4117, 'ice': 2182, 'cold': 849, 'orange': 3119, 'juice': 2415, 'gave': 1882, 'hand': 2014, 'sure': 4387, 'full': 1853, 'home': 2116, 'car': 648, 'scary': 3940, 'congenital': 942, 'suffered': 4349, 'extreme': 1647, 'either': 1441, 'fighter': 1740, 'paper': 3186, 'sister': 4116, 'mail': 2671, 'shot': 4071, 'warm': 4863, 'weather': 4885, 'hydration': 2168, 'drank': 1362, 'felt': 1721, 'continue': 983, 'models': 2869, 'couple': 1041, 'understanding': 4713, 'live': 2593, 'central': 711, 'coast': 840, 'stanford': 4240, 'near': 2964, 'christian': 784, 'study': 4321, 'reveals': 3848, 'devastating': 1234, 'following': 1797, 'dietary': 1266, 'administration': 84, 'ingredient': 2291, 'nobody': 3005, 'questions': 3604, 'organizations': 3127, 'warned': 4864, 'sodium': 4158, 'intake': 2328, 'official': 3079, 'human': 2155, 'services': 4026, 'state': 4248, 'milligrams': 2830, 'grams': 1962, 'per': 3253, 'keep': 2425, 'possible': 3382, 'researchers': 3807, 'questioning': 3602, 'recommendation': 3685, 'largest': 2485, 'kind': 2448, 'recently': 3678, 'published': 3563, 'medicine': 2771, 'scientists': 3954, 'collected': 855, 'information': 2289, 'daily': 1103, 'consumption': 974, 'looking': 2614, 'findings': 1761, 'majority': 2679, 'consumed': 971, 'concluded': 926, 'massive': 2725, 'clearly': 815, 'moderate': 2870, 'relationship': 3741, 'found': 1827, 'falling': 1680, 'popular': 3372, 'theory': 4509, 'suggest': 4356, 'scores': 3959, 'random': 3627, 'shows': 4080, 'diets': 1267, 'interesting': 2337, 'finding': 1760, 'participants': 3200, 'average': 382, 'died': 1262, 'developed': 1236, 'experienced': 1623, 'outcomes': 3143, 'seven': 4035, 'consistent': 960, 'die': 1261, 'suffer': 4348, 'harmful': 2028, 'perhaps': 3265, 'surprising': 4397, 'essential': 1544, 'critical': 1063, 'nerve': 2976, 'impulses': 2236, 'helps': 2070, 'electrolytes': 1451, 'plays': 3346, 'metabolic': 2798, 'processes': 3479, 'energy': 1491, 'necessary': 2967, 'surplus': 4394, 'plenty': 3351, 'potassium': 3389, 'repeated': 3780, 'studies': 4319, 'proven': 3547, 'important': 2227, 'salt': 3915, 'stock': 4277, 'dark': 1118, 'leafy': 2519, 'greens': 1982, 'white': 4911, 'beans': 436, 'salmon': 3914, 'avocados': 384, 'bananas': 413, 'add': 68, 'regardless': 3716, 'consume': 970, 'must': 2936, 'actions': 50, 'transparency': 4626, 'report': 3787, 'titled': 4570, 'monitoring': 2887, 'devices': 1243, 'global': 1924, 'industry': 2275, 'analysis': 214, 'size': 4123, 'trends': 4645, 'estimated': 1551, 'elevated': 1454, 'factor': 1663, 'artery': 305, 'kidney': 2439, 'obese': 3047, 'growing': 1991, 'incidence': 2241, 'diseases': 1305, 'hypertensive': 2172, 'globally': 1925, 'regular': 3727, 'basis': 427, 'various': 4778, 'monitored': 2886, 'renal': 3775, 'trend': 4644, 'fast': 1693, 'automated': 374, 'currently': 1087, 'available': 380, 'method': 2807, 'remains': 3760, 'non': 3010, 'symptomatic': 4424, 'unless': 4727, 'hence': 2073, 'remain': 3757, 'undiagnosed': 4715, 'organization': 3126, 'approximately': 286, 'total': 4594, 'patient': 3225, 'introduced': 2352, 'initiatives': 2303, 'aims': 154, 'monitors': 2888, 'held': 2063, 'driving': 1372, 'segment': 3990, 'easy': 1404, 'use': 4752, 'display': 1310, 'pulse': 3570, 'feature': 1705, 'store': 4286, 'manufacturers': 2699, 'coming': 872, 'quick': 3605, 'measure': 2753, 'monitor': 2885, 'professionals': 3492, 'moreover': 2898, 'track': 4606, 'efficiently': 1433, 'thus': 4550, 'expand': 1613, 'request': 3798, 'sample': 3917, 'http': 2150, 'com': 862, 'php': 3295, 'flag': 1777, 'user': 4756, 'terms': 4493, 'revenue': 3849, 'projected': 3507, 'advancement': 99, 'technologies': 4477, 'potential': 3391, 'driver': 1370, 'companies': 890, 'innovative': 2311, 'novel': 3025, 'setting': 4031, 'instance': 2319, 'november': 3026, 'digital': 1279, 'along': 183, 'link': 2578, 'automatically': 376, 'network': 2980, 'advanced': 98, 'key': 2433, 'players': 3344, 'customers': 1091, 'drive': 1368, 'highest': 2090, 'owing': 3158, 'regions': 3722, 'north': 3014, 'america': 199, 'europe': 1561, 'week': 4890, 'uk': 4696, 'george': 1901, 'dropped': 1374, 'federal': 1710, 'budget': 594, 'vote': 4839, 'whatever': 4906, 'happens': 2022, 'upcoming': 4736, 'suit': 4362, 'talked': 4449, 'tax': 4463, 'thing': 4521, 'regards': 3717, 'childhood': 770, 'obesity': 3048, 'significant': 4097, 'st': 4228, 'century': 713, 'national': 2948, 'child': 769, 'program': 3500, 'measures': 2756, 'truly': 4663, 'children': 771, 'aged': 134, 'overweight': 3157, 'kids': 2441, 'australian': 367, 'institute': 2321, 'welfare': 4898, 'burden': 602, 'everywhere': 1578, 'blame': 503, 'view': 4814, 'epidemic': 1521, 'pretty': 3442, 'black': 499, 'kid': 2438, 'abuse': 15, 'ways': 4878, 'responsible': 3827, 'safety': 3911, 'question': 3600, 'issue': 2377, 'government': 1952, 'systems': 4433, 'university': 4725, 'maryland': 2721, 'centre': 712, 'side': 4086, 'effects': 1429, 'fat': 1695, 'generation': 1893, 'earlier': 1394, 'incredible': 2255, 'strain': 4290, 'independent': 2259, 'reports': 3792, 'bill': 475, 'related': 3737, 'illnesses': 2202, 'occupational': 3064, 'environmental': 1516, 'highlights': 2091, 'compared': 894, 'smokers': 4147, 'incremental': 2257, 'individuals': 2271, 'morbid': 2896, 'excess': 1597, 'bad': 405, 'australia': 366, 'council': 1033, 'states': 4252, 'economic': 1412, 'co': 838, 'operation': 3107, 'development': 1239, 'predicts': 3414, 'across': 45, 'explain': 1630, 'lifestyle': 2557, 'direct': 1285, 'billion': 477, 'indirect': 2269, 'resulting': 3837, 'overall': 3150, 'et': 1553, 'al': 160, 'killing': 2445, 'needs': 2972, 'put': 3583, 'industries': 2274, 'line': 2575, 'led': 2529, 'british': 582, 'come': 867, 'soft': 4160, 'ml': 2862, 'trouble': 4659, 'bbc': 433, 'office': 3076, 'suggests': 4360, 'au': 360, 'standard': 4237, 'means': 2749, 'bull': 601, 'pepsi': 3251, 'price': 3454, 'policy': 3365, 'estimates': 1552, 'aim': 152, 'promoting': 3516, 'sports': 4223, 'win': 4923, 'bar': 418, 'countries': 1038, 'timing': 4561, 'scott': 3960, 'worldwide': 4956, 'cent': 708, 'mountain': 2908, 'monster': 2891, 'political': 3366, 'boil': 536, 'meanwhile': 2752, 'making': 2684, 'socially': 4155, 'move': 2911, 'plc': 3347, 'drinks': 1367, 'maker': 2681, 'wednesday': 4889, 'chocolate': 775, 'chips': 774, 'fruit': 1850, 'buck': 592, 'tackle': 4440, 'income': 2247, 'goes': 1936, 'substance': 4336, 'probably': 3471, 'possibly': 3383, 'motion': 2905, 'road': 3879, 'surface': 4389, 'real': 3662, 'choices': 777, 'sam': 3916, 'appeared': 267, 'news': 2990, 'money': 2884, 'morning': 2899, 'anti': 239, 'science': 3949, 'somewhat': 4174, 'preventable': 3446, 'treatable': 4636, 'anyone': 253, 'thread': 4535, 'filled': 1749, 'pictures': 3307, 'hate': 2033, 'tell': 4482, 'flu': 1785, 'kill': 2442, 'meds': 2774, 'hey': 2081, 'virus': 4820, 'steven': 4272, 'healthday': 2045, 'reporter': 3790, 'march': 2704, 'keeping': 2426, 'provide': 3548, 'waiting': 4847, 'japanese': 2393, 'greater': 1976, 'whose': 4913, 'measured': 2754, 'practice': 3400, 'effective': 1426, 'managing': 2694, 'researcher': 3806, 'dr': 1358, 'professor': 3493, 'investigated': 2356, 'demonstrate': 1190, 'superior': 4372, 'colleagues': 854, 'followed': 1796, 'strokes': 4306, 'showed': 4075, 'significantly': 4098, 'among': 206, 'comparable': 892, 'respectively': 3819, 'investigators': 2362, 'online': 3097, 'college': 857, 'cardiology': 658, 'attacks': 353, 'premature': 3419, 'los': 2618, 'angeles': 223, 'spokesman': 4219, 'relatively': 3743, 'simple': 4106, 'using': 4759, 'measuring': 2757, 'device': 1242, 'aha': 147, 'recommends': 3688, 'automatic': 375, 'upper': 4741, 'arm': 292, 'recommended': 3687, 'reliable': 3752, 'elderly': 1446, 'pregnant': 3417, 'women': 4941, 'specifically': 4205, 'purposes': 3579, 'properly': 3523, 'immediate': 2210, 'consult': 965, 'controlling': 999, 'step': 4268, 'done': 1343, 'advice': 107, 'interest': 2335, 'guideline': 2000, 'recommendations': 3686, 'toward': 4597, 'assess': 324, 'guide': 1999, 'men': 2787, 'rates': 3639, 'cardiac': 654, 'component': 910, 'routine': 3894, 'assessment': 327, 'visit': 4823, 'opportunity': 3113, 'ap': 259, 'lady': 2476, 'nancy': 2943, 'reagan': 3659, 'bel': 453, 'assistant': 332, 'mrs': 2920, 'sunday': 4367, 'marriage': 2715, 'ronald': 3889, 'lasted': 2488, 'adviser': 111, 'fierce': 1738, 'protector': 3539, 'journey': 2412, 'actor': 57, 'governor': 1953, 'president': 3438, 'united': 4723, 'rushed': 3901, 'later': 2493, 'alzheimer': 195, 'broke': 583, 'fellow': 1719, 'backing': 402, 'stem': 4264, 'cell': 703, 'cure': 1084, 'statement': 4250, 'passing': 3214, 'strength': 4297, 'husband': 2166, 'say': 3931, 'prevented': 3447, 'raised': 3620, 'decision': 1151, 'makers': 2682, 'vital': 4828, 'extend': 1639, 'condolences': 932, 'difficult': 1274, 'tm': 4571, 'cbs': 697, 'inc': 2239, 'relevant': 3751, 'logo': 2604, 'license': 2550, 'material': 2729, 'press': 3440, 'contributed': 993, 'enlarged': 1503, 'repeatedly': 3781, 'easily': 1401, 'avoided': 386, 'sad': 3906, 'incident': 2242, 'physician': 3299, 'regarding': 3715, 'benefits': 462, 'wide': 4914, 'testing': 4497, 'aware': 393, 'org': 3123, 'camp': 632, 'screening': 3963, 'detected': 1228, 'fixed': 1775, 'belly': 459, 'mass': 2723, 'index': 2260, 'bmi': 527, 'waist': 4844, 'saw': 3929, 'cm': 836, 'linked': 2579, 'analyses': 213, 'author': 368, 'technology': 4478, 'kg': 2435, 'hip': 2096, 'ratio': 3641, 'progressively': 3505, 'looked': 2613, 'units': 4724, 'established': 1548, 'hold': 2106, 'great': 1975, 'significance': 4096, 'preventing': 3448, 'perspective': 3277, 'activity': 56, 'plant': 3335, 'lots': 2626, 'fruits': 1851, 'vegetables': 4784, 'grains': 1961, 'india': 2261, 'improve': 2229, 'fitness': 1771, 'benefit': 461, 'academy': 18, 'royal': 3895, 'calling': 626, 'miracle': 2847, 'randomized': 3628, 'controlled': 998, 'examined': 1590, 'effect': 1425, 'therapy': 4513, 'osteoarthritis': 3135, 'knee': 2453, 'improved': 2230, 'aerobic': 116, 'capacity': 643, 'rheumatoid': 3859, 'arthritis': 306, 'reduced': 3699, 'mortality': 2902, 'physiological': 3302, 'shown': 4079, 'soon': 4178, 'twenty': 4684, 'obstructive': 3057, 'walk': 4850, 'improves': 2233, 'mobility': 2867, 'activities': 55, 'sclerosis': 3955, 'went': 4902, 'mention': 2790, 'maintaining': 2676, 'trying': 4669, 'workout': 4953, 'programs': 3501, 'seem': 3984, 'decided': 1150, 'walking': 4852, 'complete': 903, 'walked': 4851, 'lunch': 2645, 'machine': 2661, 'encourage': 1479, 'readers': 3652, 'situation': 4121, 'failing': 1670, 'inevitable': 2276, 'base': 422, 'entire': 1512, 'professional': 3491, 'enjoy': 1500, 'form': 1814, 'resistance': 3811, 'training': 4617, 'maximize': 2736, 'light': 2560, 'includes': 2245, 'cardio': 655, 'agree': 143, 'cytokines': 1100, 'tnf': 4573, 'il': 2198, 'remodeling': 3769, 'myocardial': 2938, 'infarction': 2277, 'role': 3883, 'regulation': 3730, 'proliferation': 3510, 'survival': 4403, 'peripheral': 3269, 'stimulates': 4276, 'healing': 2042, 'repair': 3778, 'vascular': 4780, 'inflammatory': 2283, 'endothelial': 1485, 'ischemic': 2373, 'etc': 1554, 'local': 2601, 'table': 4435, 'conducted': 934, 'subjects': 4328, 'attempts': 355, 'promising': 3514, 'onto': 3100, 'conventional': 1002, 'therapeutic': 4510, 'aging': 141, 'ca': 613, 'via': 4805, 'removal': 3771, 'sensitivity': 4010, 'synthesis': 4428, 'emerging': 1467, 'strategy': 4294, 'stage': 4233, 'mi': 2813, 'agents': 138, 'receptor': 3679, 'adalimumab': 66, 'inhibitor': 2297, 'half': 2009, 'peg': 3246, 'fully': 1854, 'successful': 4343, 'toxicity': 4601, 'racial': 3614, 'gene': 1888, 'adverse': 105, 'nyha': 3042, 'class': 806, 'iii': 2197, 'iv': 2382, 'advised': 110, 'thank': 4503, 'plan': 3330, 'maybe': 2739, 'weekend': 4891, 'toll': 4581, 'try': 4668, 'useful': 4754, 'pull': 3567, 'ford': 1807, 'amazed': 196, 'parts': 3208, 'labor': 2469, 'never': 2984, 'vehicle': 4786, 'motor': 2906, 'transmission': 4625, 'nuts': 3041, 'replacing': 3785, 'challenge': 726, 'knew': 2454, 'till': 4555, 'happy': 2024, 'loving': 2631, 'guys': 2005, 'police': 3364, 'context': 982, 'project': 3506, 'projects': 3509, 'shootings': 4063, 'washington': 4869, 'crucial': 1069, 'force': 1804, 'reasonable': 3669, 'opened': 3103, 'fire': 1766, 'military': 2826, 'received': 3675, 'texas': 4500, 'cop': 1011, 'hope': 2120, 'steer': 4263, 'conversation': 1003, 'meaningful': 2748, 'began': 446, 'database': 1121, 'winning': 4925, 'focused': 1790, 'included': 2244, 'traffic': 4613, 'accidents': 27, 'officers': 3078, 'acts': 61, 'duty': 1388, 'ultimately': 4699, 'gathered': 1880, 'name': 2941, 'specific': 4204, 'listed': 2586, 'mentally': 2789, 'ill': 2199, 'previously': 3453, 'mental': 2788, 'eventually': 1571, 'identified': 2189, 'unarmed': 4704, 'encounter': 1478, 'wealth': 4882, 'believed': 455, 'ongoing': 3096, 'race': 3612, 'book': 539, 'behind': 452, 'understand': 4712, 'approach': 280, 'applicable': 271, 'law': 2503, 'determine': 1231, 'tried': 4651, 'everyone': 1576, 'source': 4186, 'update': 4737, 'conclusions': 928, 'creative': 1058, 'commons': 884, 'alike': 169, 'interpretation': 2344, 'improving': 2234, 'release': 3748, 'sooner': 4179, 'agencies': 135, 'delay': 1179, 'fill': 1748, 'choose': 779, 'bank': 415, 'builds': 597, 'trust': 4666, 'shooting': 4062, 'begins': 449, 'timely': 4559, 'timeline': 4558, 'video': 4811, 'word': 4947, 'seen': 3988, 'lie': 2552, 'apparent': 264, 'lies': 2553, 'profile': 3494, 'lose': 2619, 'faith': 1677, 'sunlight': 4368, 'media': 2763, 'deadly': 1135, 'suffering': 4351, 'society': 4156, 'social': 4153, 'attention': 357, 'crisis': 1061, 'trained': 4616, 'recognize': 3682, 'widely': 4915, 'adopted': 91, 'country': 1039, 'seeing': 3981, 'address': 75, 'mid': 2818, 'cities': 800, 'dallas': 1105, 'fort': 1822, 'cops': 1013, 'focusing': 1792, 'wellness': 4900, 'checks': 753, 'addition': 72, 'hospitalizations': 2131, 'visits': 4826, 'lives': 2596, 'supportive': 4381, 'residents': 3810, 'adding': 71, 'disability': 1291, 'opinion': 3110, 'remember': 3764, 'defense': 1165, 'threat': 4536, 'passed': 3212, 'democratic': 1189, 'republican': 3797, 'ball': 410, 'pass': 3210, 'asking': 318, 'respond': 3822, 'proper': 3522, 'look': 2612, 'emphysema': 1471, 'disabilities': 1290, 'unrelated': 4730, 'larger': 2484, 'leaders': 2514, 'exactly': 1586, 'fix': 1774, 'act': 47, 'cannot': 641, 'correctly': 1023, 'four': 1832, 'surveillance': 4401, 'operated': 3105, 'observed': 3055, 'san': 3919, 'zero': 4997, 'involve': 2365, 'became': 441, 'supporting': 4380, 'places': 3328, 'perform': 3261, 'jobs': 2401, 'worst': 4962, 'practical': 3399, 'procedures': 3475, 'bring': 578, 'protecting': 3536, 'file': 1745, 'union': 4720, 'appropriate': 282, 'consulted': 968, 'building': 596, 'writing': 4972, 'technological': 4476, 'financial': 1757, 'barriers': 421, 'coverage': 1045, 'killed': 2443, 'shots': 4072, 'manner': 2695, 'autopsy': 377, 'deceased': 1147, 'abnormal': 7, 'tools': 4589, 'techniques': 4475, 'chemical': 758, 'taser': 4457, 'prior': 3464, 'indication': 2266, 'practices': 3401, 'conclusion': 927, 'pointed': 3361, 'confusion': 941, 'quite': 3609, 'poses': 3377, 'indeed': 2258, 'exposure': 1636, 'funded': 1862, 'percentage': 3255, 'establish': 1547, 'millions': 2832, 'definition': 1172, 'third': 4526, 'awful': 396, 'examples': 1593, 'injuries': 2307, 'suspect': 4408, 'fighting': 1741, 'control': 997, 'studied': 4318, 'faced': 1654, 'train': 4615, 'philadelphia': 3290, 'bit': 497, 'fought': 1826, 'armed': 293, 'struggle': 4312, 'overdose': 3152, 'none': 3011, 'controversial': 1001, 'solution': 4165, 'beyond': 469, 'https': 2151, 'watch': 4871, 'guest': 1996, 'reform': 3710, 'traders': 4610, 'international': 2342, 'ag': 132, 'hospitalization': 2130, 'ejection': 1442, 'fraction': 1834, 'processed': 3478, 'nasdaq': 2946, 'corporate': 1020, 'solutions': 4166, 'solely': 4163, 'content': 980, 'examiner': 1591, 'spokeswoman': 4220, 'oklahoma': 3088, 'player': 3343, 'tyrek': 4693, 'coger': 846, 'natural': 2951, 'grapes': 1970, 'balanced': 409, 'fans': 1690, 'sufficient': 4352, 'unhealthy': 4719, 'punch': 3574, 'cup': 1080, 'packed': 3170, 'antioxidants': 249, 'calories': 629, 'viral': 4818, 'obtained': 3059, 'nutrition': 3039, 'examination': 1588, 'survey': 4402, 'alcoholic': 164, 'grape': 1968, 'products': 3488, 'typically': 4692, 'healthier': 2046, 'patterns': 3229, 'nutrient': 3037, 'consumers': 972, 'fiber': 1733, 'magnesium': 2669, 'seeds': 3980, 'fewer': 1729, 'sugars': 4354, 'saturated': 3924, 'minerals': 2837, 'solid': 4164, 'executive': 1604, 'director': 1289, 'wine': 4924, 'initiative': 2302, 'adds': 77, 'story': 4288, 'compound': 914, 'mainly': 2674, 'properties': 3524, 'lipid': 2582, 'metabolism': 2799, 'ldl': 2511, 'contain': 976, 'involving': 2368, 'oxidative': 3159, 'ideal': 2187, 'snack': 4150, 'bladder': 501, 'experience': 1622, 'chest': 763, 'alabama': 161, 'joseph': 2410, 'picture': 3306, 'scene': 3942, 'ground': 1987, 'reality': 3663, 'explains': 1632, 'ones': 3095, 'neck': 2968, 'jaw': 2394, 'arms': 294, 'unusual': 4734, 'shortness': 4069, 'coughing': 1030, 'feeling': 1715, 'sick': 4083, 'breaking': 564, 'sweat': 4412, 'indigestion': 2268, 'anxiety': 251, 'ignore': 2194, 'immediately': 2211, 'symptom': 4423, 'sense': 4008, 'mehta': 2780, 'ohio': 3083, 'profession': 3490, 'deny': 1197, 'present': 3431, 'emergency': 1466, 'consequences': 953, 'delayed': 1180, 'minor': 2842, 'sexual': 4040, 'snoring': 4152, 'begin': 447, 'revealed': 3847, 'john': 2403, 'cardiologist': 656, 'center': 709, 'detection': 1230, 'save': 3926, 'males': 2687, 'arterial': 303, 'buildup': 598, 'plaque': 3336, 'achieving': 42, 'furthermore': 1867, 'sedentary': 3978, 'phase': 3287, 'ignored': 2195, 'atrial': 349, 'fibrillation': 1734, 'irregular': 2370, 'rapid': 3633, 'therefore': 4516, 'noise': 3008, 'damages': 1108, 'destroy': 1222, 'inflammation': 2282, 'pathways': 3224, 'oral': 3118, 'teeth': 4480, 'shoulder': 4073, 'sensation': 4007, 'classic': 808, 'appear': 266, 'checked': 752, 'sufferers': 4350, 'discomfort': 1295, 'puffy': 3566, 'marker': 2709, 'naturally': 2952, 'tends': 4490, 'resolve': 3813, 'overnight': 3155, 'persistent': 3272, 'constant': 962, 'worsening': 4961, 'evaluation': 1566, 'heartburn': 2055, 'burning': 605, 'additionally': 74, 'gastrointestinal': 1879, 'distress': 1313, 'mixed': 2861, 'sweating': 4413, 'written': 4973, 'fair': 1675, 'notice': 3021, 'site': 4118, 'contains': 979, 'efforts': 1435, 'scientific': 3952, 'provided': 3549, 'section': 3973, 'accordance': 29, 'title': 4569, 'distributed': 1314, 'profit': 3496, 'receiving': 3676, 'edu': 1422, 'diagnosis': 1253, 'rash': 3637, 'antidepressant': 244, 'cycle': 1097, 'stone': 4279, 'early': 1395, 'cheaponlinepharmacy': 750, 'xyz': 4979, 'coumadin': 1032, 'bipolar': 494, 'pan': 3182, 'tablet': 4437, 'mg': 2811, 'capsules': 646, 'net': 2979, 'placed': 3326, 'dear': 1138, 'inside': 2315, 'visible': 4821, 'prayer': 3405, 'paragraph': 3191, 'temporary': 4486, 'located': 2602, 'church': 788, 'location': 2603, 'brought': 590, 'holy': 2115, 'eucharist': 1559, 'minister': 2840, 'directly': 1288, 'privately': 3466, 'holding': 2107, 'lord': 2617, 'action': 49, 'coffee': 845, 'statistics': 4256, 'hurt': 2164, 'sin': 4108, 'ladies': 2475, 'actively': 54, 'promote': 3515, 'adoration': 92, 'rich': 3863, 'thanks': 4506, 'days': 1128, 'avoid': 385, 'de': 1133, 'vietnam': 4813, 'continuous': 987, 'allowed': 177, 'pray': 3404, 'father': 1697, 'god': 1935, 'highly': 2092, 'mysteries': 2940, 'christ': 783, 'heaven': 2058, 'earth': 1398, 'carried': 675, 'distribution': 1315, 'blacks': 500, 'initially': 2300, 'absence': 9, 'blocker': 517, 'xr': 4978, 'spironolactone': 4215, 'tx': 4688, 'afterload': 129, 'physicians': 3300, 'african': 128, 'diuretic': 1318, 'doc': 1330, 'versus': 4799, 'insulin': 2325, 'comfortable': 871, 'morbidity': 2897, 'hi': 2084, 'options': 3117, 'lvad': 2651, 'transplants': 4629, 'lvef': 2652, 'improvement': 2231, 'error': 1535, 'messages': 2795, 'moving': 2917, 'selenium': 3999, 'trace': 4604, 'animal': 227, 'infertility': 2281, 'powerful': 3397, 'antioxidant': 248, 'substances': 4337, 'radicals': 3616, 'protects': 3540, 'potent': 3390, 'proteins': 3542, 'glutathione': 1928, 'cellular': 705, 'produces': 3484, 'produced': 3482, 'unfortunately': 4718, 'supplementation': 4375, 'negative': 2973, 'draw': 1363, 'degeneration': 1173, 'damaging': 1109, 'cognitive': 847, 'impairment': 2219, 'hopefully': 2121, 'metal': 2801, 'detoxification': 1233, 'organic': 3125, 'carbon': 652, 'bound': 550, 'supports': 4382, 'concentration': 919, 'deficiency': 1168, 'reported': 3788, 'male': 2686, 'female': 1722, 'enables': 1476, 'fertility': 1726, 'fetal': 1727, 'exact': 1585, 'concentrations': 920, 'prevention': 3449, 'viable': 4806, 'option': 3116, 'sources': 4187, 'incorporate': 2249, 'concerned': 923, 'talk': 4448, 'references': 3705, 'supplement': 4374, 'sheet': 4052, 'institutes': 2322, 'feb': 1708, 'web': 4886, 'apr': 287, 'qian': 3588, 'lv': 2650, 'li': 2548, 'status': 4257, 'prevalence': 3443, 'biological': 487, 'pubmed': 3565, 'christopher': 786, 'preventive': 3450, 'pmc': 3357, 'va': 4765, 'en': 1474, 'dna': 1329, 'clinicians': 823, 'kingdom': 2451, 'influence': 2284, 'maria': 2706, 'serum': 4021, 'interventions': 2349, 'print': 3463, 'tasks': 4459, 'assessing': 326, 'speed': 4208, 'epidemiology': 1523, 'sci': 3948, 'el': 1444, 'secondary': 3969, 'importance': 2226, 'lancet': 2480, 'history': 2100, 'blog': 521, 'congested': 943, 'wise': 4930, 'spending': 4210, 'copd': 1012, 'asthma': 340, 'critically': 1064, 'prescribed': 3426, 'treatments': 4640, 'spend': 4209, 'topics': 4593, 'prayers': 3406, 'tree': 4642, 'flowers': 1784, 'grateful': 1971, 'stuff': 4323, 'jesus': 2395, 'july': 2418, 'md': 2742, 'fib': 1732, 'admitted': 88, 'came': 630, 'removed': 3773, 'hair': 2008, 'summer': 4365, 'smile': 4142, 'clothes': 832, 'est': 1546, 'la': 2464, 'yellow': 4987, 'nine': 3002, 'ph': 3278, 'gift': 1912, 'touch': 4596, 'sue': 4347, 'cream': 1053, 'june': 2420, 'gold': 1939, 'clock': 826, 'spring': 4226, 'label': 2466, 'worried': 4957, 'terrible': 4494, 'cardiomyopathy': 661, 'outcome': 3142, 'lbs': 2509, 'matthew': 2734, 'son': 4176, 'shall': 4043, 'upon': 4740, 'king': 2450, 'unto': 4732, 'ye': 4982, 'prepared': 3424, 'foundation': 1828, 'meat': 2758, 'thirsty': 4528, 'visited': 4825, 'thee': 4508, 'love': 2628, 'mercy': 2792, 'disabled': 1292, 'chose': 781, 'buying': 610, 'paying': 3233, 'er': 1532, 'afford': 123, 'pay': 3232, 'indiana': 2262, 'approved': 284, 'medicaid': 2765, 'ended': 1482, 'mike': 2823, 'pence': 3247, 'cuts': 1093, 'cash': 683, 'wait': 4845, 'security': 3977, 'covered': 1046, 'medicare': 2768, 'largely': 2483, 'debilitating': 1141, 'angina': 224, 'breathlessness': 571, 'edited': 1418, 'april': 288, 'pm': 3356, 'insurance': 2326, 'thats': 4507, 'fun': 1855, 'reuters': 3845, 'vericel': 4796, 'corp': 1019, 'providing': 3553, 'bone': 537, 'marrow': 2717, 'derived': 1208, 'ixmyelocel': 2385, 'placebo': 3325, 'treated': 4637, 'optimal': 3115, 'composite': 912, 'detailed': 1225, 'meeting': 2779, 'chicago': 765, 'primarily': 3456, 'driven': 1369, 'difference': 1269, 'designed': 1215, 'decrease': 1156, 'henry': 2074, 'sinai': 4109, 'efficiency': 1431, 'minute': 2844, 'distance': 1311, 'goals': 1934, 'presented': 3434, 'acc': 19, 'stressed': 4301, 'prove': 3545, 'injected': 2304, 'becomes': 443, 'weakened': 4880, 'virtually': 4819, 'medicines': 2772, 'implantable': 2221, 'despite': 1221, 'interventional': 2348, 'transplant': 4627, 'chris': 782, 'welsh': 4901, 'laura': 2501, 'france': 1836, 'celyad': 706, 'patrick': 3227, 'subscribe': 4332, 'twitter': 4686, 'candidate': 639, 'platform': 3340, 'evaluated': 1564, 'mayo': 2740, 'numerous': 3033, 'peer': 3245, 'reviewed': 3854, 'consists': 961, 'harvested': 2032, 'enhance': 1498, 'chart': 748, 'evaluate': 1563, 'prospective': 3530, 'multi': 2923, 'double': 1353, 'blinded': 510, 'comparing': 895, 'israel': 2375, 'efficacy': 1430, 'endpoint': 1487, 'test': 4495, 'ventricular': 4794, 'structure': 4311, 'procedure': 3474, 'founded': 1829, 'leader': 2513, 'targeting': 4455, 'indications': 2267, 'portfolio': 3375, 'utilize': 4763, 'killer': 2444, 'entered': 1510, 'symbol': 4422, 'forward': 1825, 'statements': 4251, 'historical': 2099, 'reflect': 3708, 'expectations': 1618, 'projections': 3508, 'unknown': 4726, 'uncertainties': 4705, 'actual': 62, 'differ': 1268, 'materially': 2730, 'particular': 3204, 'noted': 3018, 'preliminary': 3418, 'nature': 2953, 'limited': 2571, 'concerning': 924, 'candidates': 640, 'qualified': 3590, 'demonstrated': 1191, 'subsequent': 4334, 'submission': 4329, 'regulatory': 3731, 'filings': 1747, 'requirements': 3802, 'bodies': 533, 'authorities': 369, 'property': 3525, 'competition': 899, 'uses': 4758, 'manage': 2690, 'operating': 3106, 'expenses': 1620, 'obtain': 3058, 'funding': 1863, 'list': 2585, 'description': 1213, 'prospectus': 3532, 'filed': 1746, 'sec': 3967, 'undue': 4716, 'reliance': 3753, 'date': 1122, 'publication': 3561, 'document': 1334, 'obligation': 3052, 'regard': 3714, 'circumstances': 797, 'protected': 3535, 'laws': 2504, 'holds': 2108, 'equity': 1530, 'licensed': 2551, 'evaluating': 1565, 'html': 2149, 'injection': 2305, 'dosing': 1352, 'chemotherapy': 761, 'arrest': 297, 'calculated': 620, 'genericonlinepharmacy': 1896, 'antibiotic': 240, 'depression': 1205, 'veteran': 4803, 'producer': 3483, 'film': 1751, 'producing': 3485, 'movie': 2916, 'ex': 1583, 'tuesday': 4674, 'span': 4194, 'television': 4481, 'wife': 4917, 'louise': 2627, 'otc': 3137, 'appetite': 269, 'unique': 4721, 'hundreds': 2161, 'pioneer': 3319, 'career': 666, 'west': 4903, 'oh': 3082, 'films': 1752, 'cult': 1077, 'comedy': 868, 'subject': 4327, 'directed': 1286, 'featured': 1706, 'special': 4199, 'award': 390, 'lifetime': 2558, 'britain': 581, 'awards': 392, 'soul': 4183, 'forever': 1810, 'yahoo': 4981, 'columbia': 861, 'marketwired': 2714, 'biomedical': 489, 'laboratory': 2470, 'markets': 2713, 'today': 4575, 'fourth': 1833, 'december': 1148, 'gaap': 1869, 'adjusted': 81, 'ebitda': 1407, 'pleased': 3350, 'collaboration': 851, 'relative': 3742, 'partner': 3206, 'quarters': 3596, 'continuing': 986, 'finally': 1756, 'gross': 1986, 'reducing': 3701, 'segments': 3992, 'ramp': 3624, 'tests': 4499, 'granted': 1967, 'extension': 1641, 'refer': 3703, 'canada': 634, 'sites': 4119, 'accepted': 21, 'presentation': 3432, 'facilitates': 1658, 'operations': 3108, 'intended': 2330, 'aid': 149, 'prospects': 3531, 'eyes': 1650, 'facilitate': 1657, 'comparisons': 897, 'substitute': 4339, 'comprehensive': 916, 'tables': 4436, 'develops': 1241, 'diagnostic': 1254, 'applications': 273, 'represents': 3796, 'paradigm': 3190, 'diagnostics': 1255, 'performed': 3263, 'commercially': 877, 'thromboembolism': 4543, 'influenza': 2286, 'dengue': 1192, 'traded': 4609, 'trading': 4611, 'website': 4887, 'eligible': 1455, 'remaining': 3759, 'correct': 1022, 'met': 2796, 'developments': 1240, 'canadian': 635, 'quarterly': 3595, 'contained': 977, 'except': 1596, 'selected': 3996, 'thousands': 4534, 'dollars': 1339, 'tobacco': 4574, 'leaf': 2518, 'es': 1536, 'episode': 1525, 'trunks': 4665, 'goku': 1938, 'attend': 356, 'created': 1055, 'mentioned': 2791, 'wont': 4945, 'basically': 426, 'creates': 1056, 'affected': 120, 'wants': 4858, 'assistance': 331, 'isolated': 2374, 'prognosis': 3498, 'fairly': 1676, 'excellent': 1595, 'artist': 310, 'discussing': 1301, 'viewed': 4815, 'nation': 2947, 'concept': 921, 'equal': 1527, 'success': 4342, 'escape': 1538, 'stories': 4287, 'charity': 746, 'offer': 3072, 'usa': 4751, 'davis': 1126, 'pharmacist': 3283, 'digoxin': 1280, 'pat': 3217, 'afterwards': 131, 'memory': 2786, 'lasting': 2489, 'expanding': 1615, 'sub': 4325, 'specialist': 4200, 'expertise': 1628, 'cardiologists': 657, 'consultant': 966, 'nurses': 3035, 'advances': 101, 'dramatically': 1361, 'transplantation': 4628, 'updated': 4738, 'covers': 1047, 'aspects': 320, 'gives': 1918, 'chapters': 741, 'modern': 2872, 'edition': 1419, 'pdf': 3239, 'justin': 2422, 'hypo': 2175, 'plastic': 3339, 'liver': 2595, 'lupus': 2648, 'unable': 4703, 'survive': 4404, 'music': 2933, 'everything': 1577, 'painful': 3177, 'ac': 16, 'meet': 2778, 'nice': 2998, 'sweet': 4416, 'nocturia': 3006, 'frequent': 1843, 'urge': 4745, 'urination': 4748, 'referred': 3706, 'woke': 4939, 'classified': 810, 'heavy': 2060, 'drowsiness': 1378, 'descent': 1210, 'enlargement': 1504, 'prostate': 3533, 'urinary': 4747, 'desire': 1217, 'tumors': 4676, 'ms': 2921, 'dinner': 1284, 'beverages': 468, 'caffeine': 616, 'hormone': 2125, 'frequency': 1842, 'economy': 1413, 'bought': 549, 'trade': 4608, 'alert': 167, 'tight': 4554, 'saturday': 3925, 'dd': 1132, 'posts': 3388, 'boards': 530, 'aspx': 322, 'ly': 2653, 'library': 2549, 'simply': 4107, 'blake': 502, 'gareth': 1873, 'thomas': 4529, 'star': 4241, 'fi': 1731, 'deep': 1162, 'sadness': 3907, 'th': 4502, 'thoughts': 4532, 'linda': 2574, 'tribute': 4648, 'missed': 2852, 'confirmed': 939, 'mark': 2707, 'worked': 4950, 'sorry': 4181, 'lovely': 2630, 'pic': 3303, 'debut': 1143, 'roles': 3884, 'street': 4296, 'nominated': 3009, 'play': 3341, 'hill': 2094, 'boy': 554, 'forgotten': 1813, 'rip': 3870, 'earned': 1396, 'adam': 67, 'brings': 580, 'stones': 4280, 'viewers': 4816, 'character': 742, 'returned': 3844, 'evening': 1568, 'english': 1497, 'finish': 1764, 'audio': 361, 'ache': 39, 'muscles': 2930, 'hurts': 2165, 'run': 3898, 'guess': 1995, 'grade': 1957, 'figure': 1743, 'pill': 3311, 'moment': 2880, 'filtered': 1754, 'dry': 1382, 'skin': 4126, 'foot': 1802, 'medtronic': 2776, 'click': 817, 'crt': 1068, 'frank': 1837, 'shift': 4054, 'tags': 4441, 'wed': 4888, 'jun': 2419, 'edt': 1421, 'previous': 3452, 'labs': 2471, 'joint': 2408, 'palpitations': 3181, 'temperature': 4485, 'echo': 1409, 'bp': 556, 'ultrasound': 4701, 'yesterday': 4989, 'tested': 4496, 'ra': 3611, 'sun': 4366, 'jul': 2417, 'playing': 3345, 'starred': 4242, 'message': 2794, 'reads': 3657, 'describe': 1211, 'taught': 4462, 'leadership': 2515, 'loved': 2629, 'tv': 4682, 'production': 3487, 'sounds': 4185, 'send': 4004, 'miles': 2825, 'leave': 2526, 'anyway': 255, 'arrhythmia': 298, 'rehab': 3733, 'edema': 1416, 'chf': 764, 'thinking': 4524, 'bronchitis': 586, 'diagnosing': 1252, 'usual': 4760, 'cirrhosis': 798, 'suppose': 4383, 'stages': 4234, 'apparently': 265, 'gastroenterologist': 1878, 'yrs': 4996, 'deal': 1136, 'cooking': 1008, 'lake': 2479, 'dad': 1102, 'thankfully': 4505, 'connection': 949, 'missing': 2853, 'secret': 3972, 'grave': 1972, 'leg': 2532, 'hite': 2102, 'murder': 2926, 'giving': 1919, 'james': 2389, 'claimed': 804, 'agreed': 144, 'wood': 4946, 'deliver': 1183, 'alive': 170, 'shortly': 4068, 'learning': 2524, 'stood': 4281, 'released': 3749, 'dying': 1390, 'stars': 4243, 'presidential': 3439, 'friday': 1846, 'hollywood': 2113, 'served': 4023, 'house': 2140, 'families': 1686, 'michelle': 2816, 'obama': 3046, 'hillary': 2095, 'clinton': 825, 'bush': 606, 'front': 1849, 'staff': 4232, 'wilson': 4922, 'sees': 3989, 'goodness': 1945, 'reagans': 3661, 'actors': 58, 'tom': 4582, 'guests': 1997, 'ceremony': 715, 'funeral': 1864, 'musical': 2934, 'santa': 3921, 'band': 414, 'passionate': 3215, 'notes': 3019, 'decades': 1146, 'prime': 3458, 'brian': 573, 'letter': 2542, 'christmas': 785, 'elizabeth': 1458, 'robert': 3880, 'count': 1034, 'legacy': 2533, 'silver': 4102, 'screen': 3962, 'patti': 3230, 'nbc': 2958, 'memories': 2785, 'participated': 3202, 'members': 2783, 'leaving': 2528, 'advocate': 113, 'barack': 419, 'proud': 3544, 'respect': 3818, 'ordered': 3121, 'pst': 3555, 'ive': 2383, 'funny': 1865, 'weird': 4896, 'wondering': 4944, 'sacubitril': 3905, 'valsartan': 4769, 'enalapril': 1477, 'rolled': 3886, 'hospitals': 2133, 'tablets': 4438, 'sleeping': 4131, 'ingredients': 2292, 'block': 514, 'electrical': 1449, 'allergy': 174, 'processing': 3480, 'liquid': 2583, 'authors': 371, 'alternative': 189, 'dementia': 1188, 'explore': 1634, 'scans': 3936, 'imaging': 2207, 'sciences': 3951, 'alternatives': 190, 'anticholinergic': 242, 'medium': 2773, 'assessed': 325, 'magnetic': 2670, 'resonance': 3815, 'mri': 2919, 'cover': 1044, 'planning': 3333, 'solving': 4169, 'users': 4757, 'glucose': 1927, 'region': 3720, 'links': 2580, 'ventricles': 4793, 'jama': 2388, 'neurology': 2982, 'smith': 4143, 'proprietary': 3529, 'relief': 3754, 'note': 3017, 'limitations': 2570, 'advise': 109, 'recommend': 3684, 'agency': 136, 'brand': 561, 'antihistamine': 246, 'xanax': 4977, 'schizophrenia': 3945, 'treats': 4641, 'rhythms': 3861, 'bowel': 552, 'reflux': 3709, 'ulcers': 4697, 'partial': 3198, 'seizures': 3994, 'codeine': 843, 'opioid': 3111, 'painkiller': 3178, 'plus': 3355, 'max': 2735, 'ultra': 4700, 'gout': 1950, 'psychotic': 3558, 'prevents': 3451, 'clots': 833, 'steroid': 4271, 'morphine': 2901, 'epilepsy': 1524, 'acid': 43, 'pro': 3468, 'seroquel': 4020, 'sickness': 4085, 'warfarin': 4862, 'formation': 1815, 'facebook': 1653, 'utilized': 4764, 'chinese': 773, 'pharmaceutical': 3281, 'diminish': 1283, 'separated': 4013, 'southwest': 4190, 'carries': 676, 'artificial': 309, 'backpack': 403, 'struggling': 4313, 'cough': 1029, 'carry': 677, 'environment': 1515, 'onlinepharmshop': 3098, 'cd': 699, 'skeletal': 4125, 'pace': 3163, 'implanted': 2223, 'travel': 4634, 'february': 1709, 'hoping': 2123, 'hello': 2065, 'gotten': 1949, 'specialists': 4201, 'bills': 478, 'job': 2400, 'debt': 1142, 'payments': 3235, 'lean': 2521, 'pride': 3455, 'appreciated': 279, 'thankful': 4504, 'bless': 507, 'starting': 4246, 'somewhere': 4175, 'pacemaker': 3164, 'keeps': 2427, 'cavity': 696, 'headaches': 2039, 'dollar': 1338, 'running': 3899, 'arrhythmias': 299, 'organ': 3124, 'contraction': 989, 'targeted': 4454, 'molecule': 2877, 'feedback': 1712, 'unexpected': 4717, 'require': 3800, 'experimental': 1626, 'molecular': 2876, 'studying': 4322, 'fundamental': 1861, 'chemo': 760, 'combat': 864, 'tue': 4673, 'write': 4969, 'computer': 918, 'recover': 3693, 'recovery': 3696, 'putting': 3585, 'valvular': 4775, 'helpful': 2068, 'sort': 4182, 'stronger': 4308, 'gp': 1954, 'absorbed': 12, 'cigarette': 792, 'afternoon': 130, 'changing': 738, 'pattern': 3228, 'interfere': 2338, 'spent': 4211, 'fresh': 1845, 'lightly': 2562, 'withdrawal': 4934, 'osa': 3134, 'blocked': 516, 'lining': 2577, 'clogged': 827, 'interaction': 2334, 'limit': 2569, 'effectiveness': 1428, 'quantities': 3593, 'heartbeats': 2054, 'inform': 2288, 'alongside': 184, 'painkillers': 3179, 'paracetamol': 3189, 'clotting': 834, 'careful': 667, 'green': 1981, 'clot': 831, 'lowers': 2636, 'grapefruit': 1969, 'statins': 4254, 'breakfast': 563, 'pains': 3180, 'milk': 2827, 'antibiotics': 241, 'meal': 2744, 'dairy': 1104, 'breaks': 565, 'category': 686, 'chicken': 766, 'amino': 205, 'cheese': 755, 'fish': 1769, 'ef': 1424, 'icd': 2181, 'tomorrow': 4583, 'bpm': 557, 'requiring': 3804, 'austin': 365, 'tech': 4472, 'gathering': 1881, 'speaker': 4196, 'simi': 4103, 'valley': 4768, 'buried': 603, 'supreme': 4386, 'court': 1043, 'choosing': 780, 'respects': 3820, 'lay': 2507, 'repose': 3794, 'vice': 4808, 'prepare': 3423, 'neither': 2974, 'accompanied': 28, 'exercises': 1606, 'analyzed': 217, 'composition': 913, 'traditional': 4612, 'balls': 412, 'lp': 2639, 'diabetics': 1247, 'injections': 2306, 'achieve': 40, 'breakthrough': 566, 'discover': 1296, 'page': 3172, 'stopping': 4284, 'neuropathy': 2983, 'blindness': 511, 'amputations': 211, 'successfully': 4344, 'eliminate': 1456, 'dosages': 1349, 'truth': 4667, 'supposed': 4384, 'hepatitis': 2075, 'immune': 2212, 'methods': 2809, 'quietly': 3607, 'cpr': 1049, 'hell': 2064, 'moments': 2881, 'tubes': 4672, 'pumps': 3573, 'wish': 4931, 'ok': 3086, 'slowly': 4138, 'blind': 509, 'perfectly': 3259, 'dropping': 1375, 'grow': 1990, 'close': 828, 'tired': 4565, 'ready': 3658, 'diego': 1263, 'proved': 3546, 'reason': 3668, 'heal': 2041, 'compare': 893, 'congestion': 944, 'claim': 803, 'cad': 615, 'astrazeneca': 341, 'founding': 1831, 'navigator': 2956, 'personalized': 3275, 'acs': 46, 'vulnerable': 4843, 'visitation': 4824, 'shuttle': 4082, 'closed': 829, 'plans': 3334, 'war': 4859, 'grand': 1963, 'hotel': 2137, 'park': 3195, 'season': 3966, 'september': 4015, 'offering': 3074, 'ultimate': 4698, 'luxury': 2649, 'expert': 1627, 'pop': 3371, 'standards': 4238, 'mind': 2834, 'rise': 3871, 'exciting': 1602, 'features': 1707, 'strengthen': 4298, 'offered': 3073, 'bridge': 575, 'meters': 2803, 'length': 2537, 'hike': 2093, 'offers': 3075, 'senior': 4006, 'emphasis': 1470, 'protein': 3541, 'eggs': 1439, 'choice': 776, 'intervals': 2346, 'snacks': 4151, 'associates': 335, 'relax': 3745, 'club': 835, 'private': 3465, 'suite': 4363, 'plane': 3331, 'trip': 4656, 'audrey': 362, 'selection': 3997, 'welcome': 4897, 'interested': 2336, 'forest': 1809, 'beautiful': 440, 'suggestions': 4359, 'launches': 2500, 'affordable': 124, 'basketball': 428, 'absolutely': 10, 'shit': 4057, 'hitting': 2104, 'stopped': 4283, 'beating': 438, 'dont': 1345, 'somehow': 4170, 'vegetable': 4783, 'pages': 3173, 'functional': 1857, 'fell': 1718, 'bones': 538, 'dust': 1387, 'speaking': 4198, 'intense': 2331, 'medically': 2767, 'explanation': 1633, 'functioning': 1858, 'tragedy': 4614, 'systematic': 4431, 'concordia': 929, 'specialty': 4203, 'generic': 1894, 'metastatic': 2802, 'manufacture': 2696, 'orphan': 3132, 'headquartered': 2040, 'weekly': 4892, 'review': 3853, 'aug': 363, 'oldest': 3091, 'city': 801, 'lived': 2594, 'poster': 3386, 'hundred': 2160, 'forum': 1824, 'cited': 799, 'original': 3129, 'latest': 2494, 'posting': 3387, 'fda': 1702, 'issued': 2378, 'saxagliptin': 3930, 'alogliptin': 181, 'determined': 1232, 'mellitus': 2781, 'slowing': 4137, 'peptide': 3252, 'importantly': 2228, 'employed': 1472, 'pathology': 3221, 'existing': 1612, 'records': 3692, 'consulting': 969, 'encouraged': 1480, 'email': 1462, 'gov': 1951, 'alerts': 168, 'communication': 886, 'medwatch': 2777, 'htm': 2148, 'internet': 2343, 'meta': 2797, 'abstract': 14, 'mar': 2703, 'registry': 3726, 'counties': 1037, 'wet': 4905, 'kevin': 2432, 'randleman': 3626, 'ufc': 4695, 'champion': 730, 'mma': 2865, 'decisions': 1152, 'martial': 2718, 'arts': 312, 'era': 1533, 'williams': 4921, 'heavyweight': 2061, 'legend': 2535, 'reportedly': 3789, 'articles': 308, 'google': 1946, 'mask': 2722, 'cole': 850, 'upset': 4743, 'watching': 4873, 'late': 2491, 'singer': 4113, 'image': 2204, 'apart': 260, 'houston': 2141, 'entertainment': 1511, 'tonight': 4586, 'stated': 4249, 'favorite': 1701, 'super': 4369, 'ailments': 151, 'hospitalized': 2132, 'exacerbation': 1584, 'recovered': 3694, 'blocking': 519, 'feeding': 1713, 'holly': 2112, 'scared': 3939, 'blue': 525, 'baby': 397, 'meant': 2750, 'shaped': 4046, 'vocal': 4833, 'definitely': 1171, 'sound': 4184, 'amazing': 197, 'slice': 4132, 'pushing': 3582, 'bws': 611, 'airway': 157, 'genetic': 1898, 'affecting': 121, 'appears': 268, 'relatives': 3744, 'inherited': 2294, 'difficulties': 1275, 'wall': 4853, 'allows': 179, 'abdominal': 3, 'defects': 1164, 'miss': 2851, 'lincoln': 2573, 'county': 1040, 'associate': 333, 'emotional': 1468, 'cured': 1085, 'complex': 906, 'identifying': 2191, 'prevalent': 3444, 'leads': 2517, 'layer': 2508, 'unlike': 4728, 'imbalance': 2208, 'movements': 2914, 'constipation': 964, 'binge': 482, 'characterized': 744, 'consuming': 973, 'episodes': 1526, 'ii': 2196, 'bloating': 513, 'triple': 4657, 'bypass': 612, 'orlando': 3131, 'fl': 1776, 'thrombosis': 4544, 'remedies': 3762, 'investigate': 2355, 'thrombotic': 4545, 'turmeric': 4677, 'nowadays': 3027, 'curcumin': 1083, 'reverse': 3851, 'thrombus': 4546, 'inhibit': 2295, 'pharmacology': 3285, 'reveal': 3846, 'speakers': 4197, 'efficient': 1432, 'absorption': 13, 'pepper': 3250, 'beneficial': 460, 'formulated': 1820, 'hemorrhage': 2072, 'divine': 1322, 'carefully': 668, 'details': 1226, 'adult': 95, 'introduction': 2353, 'hrs': 2146, 'objectives': 3051, 'rehabilitation': 3734, 'breast': 567, 'radiation': 3615, 'obstruction': 3056, 'pancreas': 3183, 'contents': 981, 'leukemia': 2543, 'rheumatic': 3858, 'pneumonia': 3359, 'wards': 4861, 'exam': 1587, 'resources': 3817, 'board': 529, 'teaching': 4468, 'strategies': 4293, 'lab': 2465, 'settings': 4032, 'students': 4317, 'nd': 2961, 'ed': 1415, 'client': 818, 'hall': 2010, 'tumor': 4675, 'replacement': 3784, 'stenosis': 4265, 'regurgitation': 3732, 'catheterization': 688, 'dialysis': 1256, 'labeling': 2467, 'recorded': 3690, 'cvd': 1096, 'admissions': 86, 'vs': 4842, 'hr': 2144, 'ci': 790, 'examine': 1589, 'indicates': 2265, 'warnings': 4866, 'relation': 3739, 'dl': 1326, 'ray': 3643, 'committee': 881, 'med': 2762, 'sr': 4227, 'gl': 1920, 'retain': 3840, 'french': 1841, 'decide': 1149, 'degrees': 1176, 'cool': 1009, 'answers': 238, 'background': 401, 'student': 4316, 'conduction': 935, 'impulse': 2235, 'generated': 1892, 'sa': 3903, 'node': 3007, 'atria': 348, 'av': 378, 'binding': 481, 'adrenergic': 94, 'allow': 176, 'conduct': 933, 'faster': 1694, 'adrenaline': 93, 'spot': 4224, 'strictly': 4304, 'portion': 3376, 'flight': 1780, 'proportion': 3526, 'baseline': 424, 'exhibit': 1609, 'selective': 3998, 'allowing': 178, 'essentially': 1545, 'aorta': 257, 'ups': 4742, 'select': 3995, 'urgent': 4746, 'spinal': 4213, 'stent': 4266, 'cabg': 614, 'defibrillator': 1166, 'abnormalities': 8, 'shape': 4045, 'surgeon': 4390, 'collapsed': 853, 'eastern': 1403, 'town': 4599, 'spacing': 4193, 'effectively': 1427, 'paul': 3231, 'wire': 4927, 'jude': 2414, 'nyse': 3043, 'ce': 700, 'quartet': 3597, 'aimed': 153, 'pacemakers': 3165, 'defibrillators': 1167, 'expanded': 1614, 'quadripolar': 3589, 'pacing': 3167, 'vessel': 4801, 'chambers': 729, 'likelihood': 2565, 'invasive': 2354, 'affairs': 118, 'newly': 2989, 'responded': 3823, 'designs': 1216, 'enable': 1475, 'implant': 2220, 'design': 1214, 'stable': 4230, 'closer': 830, 'avoiding': 387, 'advantages': 104, 'cardiomems': 659, 'european': 1562, 'partners': 3207, 'kit': 2452, 'manufacturer': 2698, 'dedicated': 1160, 'transforming': 4624, 'expensive': 1621, 'meaning': 2747, 'litigation': 2591, 'revenues': 3850, 'intend': 2329, 'showers': 4077, 'wonderful': 4943, 'bathroom': 429, 'shower': 4076, 'involves': 2367, 'burn': 604, 'kinds': 2449, 'brown': 591, 'unwanted': 4735, 'adipose': 79, 'inactive': 2237, 'comfort': 870, 'activate': 51, 'fold': 1793, 'wonder': 4942, 'surrounds': 4400, 'hits': 2103, 'boosts': 543, 'immunity': 2213, 'rid': 3865, 'overcome': 3151, 'sending': 4005, 'depressive': 1206, 'hypothermia': 2178, 'induce': 2272, 'safer': 3910, 'pound': 3393, 'influential': 2285, 'rep': 3777, 'joanne': 2399, 'drake': 1359, 'door': 1346, 'bloody': 524, 'mom': 2879, 'mice': 2814, 'paperwork': 3188, 'desk': 1218, 'nsaids': 3029, 'newer': 2987, 'nsaid': 3028, 'diclofenac': 1260, 'phd': 3289, 'western': 4904, 'denmark': 1194, 'danish': 1115, 'prescribing': 3427, 'contributions': 996, 'field': 1737, 'muscular': 2931, 'bacteria': 404, 'doses': 1351, 'ibuprofen': 2180, 'communicable': 885, 'reference': 3704, 'magic': 2668, 'gone': 1941, 'stairs': 4235, 'solved': 4168, 'query': 3599, 'glycine': 1929, 'boosting': 542, 'familiar': 1685, 'transport': 4630, 'joints': 2409, 'collagen': 852, 'gelatin': 1886, 'broth': 587, 'arginine': 291, 'biology': 488, 'carolina': 673, 'gut': 2003, 'wasting': 4870, 'mutations': 2937, 'bile': 474, 'enzymes': 1518, 'valuable': 4770, 'forms': 1819, 'cartilage': 680, 'daytime': 1129, 'conversion': 1004, 'feed': 1711, 'endurance': 1489, 'flexible': 1779, 'degenerative': 1174, 'damaged': 1107, 'rebuild': 3671, 'lines': 2576, 'particles': 3203, 'tiny': 4562, 'tolerate': 4580, 'gi': 1910, 'crohn': 1066, 'fats': 1699, 'stabilize': 4229, 'besides': 464, 'implications': 2225, 'holistic': 2111, 'fights': 1742, 'boost': 541, 'calm': 628, 'lessen': 2540, 'humans': 2156, 'animals': 228, 'recovering': 3695, 'easier': 1400, 'occurring': 3067, 'forget': 1811, 'commonly': 883, 'raw': 3642, 'cheeses': 756, 'recipe': 3681, 'dosage': 1348, 'safely': 3909, 'supervision': 4373, 'safe': 3908, 'veggies': 4785, 'giant': 1911, 'da': 1101, 'codex': 844, 'german': 1902, 'slightly': 4133, 'mechanical': 2759, 'finished': 1765, 'played': 3342, 'mill': 2828, 'river': 3877, 'engineer': 1494, 'existence': 1611, 'charles': 747, 'purpose': 3578, 'recognized': 3683, 'figures': 1744, 'civil': 802, 'engineering': 1495, 'submitted': 4331, 'longest': 2610, 'smoker': 4146, 'memorial': 2784, 'core': 1017, 'founder': 1830, 'jet': 2396, 'corporation': 1021, 'aircraft': 156, 'entirely': 1513, 'materials': 2731, 'rear': 3667, 'refused': 3712, 'museum': 2932, 'facility': 1660, 'engine': 1493, 'navy': 2957, 'ship': 4055, 'heavily': 2059, 'hull': 2154, 'tuberculosis': 4671, 'honor': 2118, 'destroyed': 1223, 'installed': 2318, 'pilot': 3314, 'poisoning': 3363, 'forth': 1823, 'branch': 560, 'represent': 3795, 'ranging': 3632, 'inner': 2309, 'requested': 3799, 'gun': 2002, 'external': 1644, 'hammer': 2013, 'army': 295, 'sides': 4088, 'manufactured': 2697, 'payment': 3234, 'chain': 723, 'golden': 1940, 'surrounded': 4398, 'applied': 274, 'questionnaire': 3603, 'knowing': 2457, 'documentation': 1335, 'gonna': 1942, 'labels': 2468, 'invokana': 2364, 'october': 3070, 'canagliflozin': 636, 'dapagliflozin': 1117, 'lesions': 2538, 'dvt': 1389, 'pe': 3241, 'confused': 940, 'ct': 1073, 'anymore': 252, 'fibrosis': 1736, 'mary': 2720, 'certainly': 717, 'discussed': 1300, 'rule': 3897, 'obvious': 3060, 'luck': 2642, 'strict': 4303, 'accumulation': 34, 'cardiopulmonary': 662, 'solve': 4167, 'answered': 237, 'vad': 4767, 'awaiting': 388, 'undergoing': 4710, 'specialized': 4202, 'replace': 3782, 'native': 2950, 'surgeries': 4391, 'inserted': 2314, 'undergo': 4709, 'opportunities': 3112, 'advancements': 100, 'acceptable': 20, 'implantation': 2222, 'maintenance': 2677, 'competitive': 900, 'scenario': 3941, 'carrying': 678, 'toxicosis': 4602, 'formed': 1816, 'ie': 2193, 'beginning': 448, 'performing': 3264, 'taste': 4460, 'loose': 2616, 'mate': 2728, 'regional': 3721, 'comments': 874, 'phone': 3292, 'coconut': 842, 'oil': 3084, 'headache': 2038, 'advertisement': 106, 'egg': 1438, 'plain': 3329, 'defined': 1170, 'oils': 3085, 'humidity': 2158, 'swimming': 4418, 'wear': 4883, 'recall': 3672, 'yeah': 4983, 'lately': 2492, 'shelf': 4053, 'surprised': 4396, 'planned': 3332, 'younger': 4994, 'daughter': 1123, 'survived': 4405, 'lymphoma': 2659, 'daughters': 1124, 'observation': 3053, 'retired': 3842, 'grandchildren': 1964, 'couch': 1028, 'laid': 2478, 'vcel': 4782, 'halt': 2012, 'ixcell': 2384, 'dcm': 1131, 'dilated': 1281, 'outpatient': 3144, 'decompensated': 1155, 'endpoints': 1488, 'placement': 3327, 'shorter': 4067, 'statistical': 4255, 'event': 1569, 'echocardiogram': 1410, 'august': 364, 'biopharmaceutical': 491, 'autologous': 373, 'carticel': 679, 'epicel': 1520, 'permanent': 3270, 'thickness': 4519, 'maci': 2662, 'formerly': 1818, 'presents': 3435, 'obviously': 3061, 'writes': 4971, 'genetics': 1899, 'degree': 1175, 'contribute': 992, 'loads': 2600, 'toxins': 4603, 'floor': 1781, 'increasingly': 2254, 'epic': 1519, 'exercising': 1607, 'likewise': 2567, 'expression': 1638, 'subsequently': 4335, 'addressing': 76, 'modifications': 2873, 'statin': 4253, 'reversing': 3852, 'molecules': 2878, 'loaded': 2599, 'carbohydrates': 651, 'discuss': 1299, 'depth': 1207, 'junk': 2421, 'juices': 2416, 'pure': 3577, 'fatty': 1700, 'thin': 4520, 'trans': 4619, 'triglycerides': 4655, 'hdl': 2036, 'capable': 642, 'intensity': 2332, 'interval': 2345, 'raises': 3621, 'wishing': 4933, 'happiness': 2023, 'metformin': 2804, 'lisinopril': 2584, 'recording': 3691, 'books': 540, 'reply': 3786, 'values': 4772, 'fallen': 1679, 'practitioner': 3402, 'ran': 3625, 'ne': 2963, 'ekg': 1443, 'blank': 504, 'holter': 2114, 'min': 2833, 'gym': 2006, 'secure': 3975, 'exist': 1610, 'noticed': 3022, 'ecg': 1408, 'differently': 1273, 'phrase': 3296, 'passes': 3213, 'sustained': 4411, 'tachycardia': 4439, 'lasts': 2490, 'depressed': 1204, 'criteria': 1062, 'samples': 3918, 'walls': 4854, 'protective': 3538, 'possibility': 3381, 'serve': 4022, 'insight': 2316, 'altogether': 192, 'seconds': 3971, 'accident': 25, 'tiredness': 4566, 'topic': 4592, 'presence': 3430, 'cpap': 1048, 'alleviate': 175, 'protect': 3534, 'huffington': 2152, 'nasal': 2945, 'reminded': 3766, 'beach': 435, 'ocean': 3069, 'responding': 3824, 'interview': 2350, 'battery': 430, 'powered': 3396, 'turns': 4681, 'adjustment': 82, 'flying': 1788, 'blocks': 520, 'eight': 1440, 'philosophy': 3291, 'bio': 483, 'birthday': 496, 'smoke': 4144, 'collection': 856, 'telling': 4483, 'appreciate': 278, 'horrible': 2127, 'diagnose': 1249, 'retention': 3841, 'service': 4025, 'hosted': 2135, 'registration': 3725, 'monthly': 2893, 'advisory': 112, 'submit': 4330, 'videos': 4812, 'coach': 839, 'focuses': 1791, 'takeda': 4444, 'pioglitazone': 3318, 'verify': 4797, 'boat': 531, 'asap': 313, 'pulled': 3568, 'shocked': 4059, 'folks': 1794, 'bottle': 547, 'acetaminophen': 38, 'finds': 1762, 'barely': 420, 'progression': 3503, 'ease': 1399, 'pediatric': 3244, 'practitioners': 3403, 'chapter': 740, 'insights': 2317, 'ovarian': 3148, 'consultation': 967, 'harm': 2027, 'readmissions': 3656, 'hrrp': 2145, 'readmission': 3655, 'discharged': 1294, 'flat': 1778, 'officials': 3080, 'reporting': 3791, 'inpatient': 2312, 'seemed': 3985, 'spoke': 4218, 'piece': 3309, 'miller': 2829, 'lowered': 2634, 'convinced': 1006, 'lifesaving': 2556, 'moves': 2915, 'latter': 2497, 'parent': 3193, 'comparison': 896, 'gray': 1973, 'harvard': 2031, 'ounce': 3141, 'editor': 1420, 'delivery': 1185, 'input': 2313, 'im': 2203, 'mitral': 2860, 'op': 3101, 'scientist': 3953, 'qualify': 3591, 'das': 1119, 'defect': 1163, 'humid': 2157, 'scooter': 3956, 'wheelchair': 4907, 'card': 653, 'gr': 1955, 'maximum': 2737, 'handle': 2015, 'pick': 3304, 'truck': 4661, 'donate': 1341, 'psych': 3556, 'lucky': 2643, 'mine': 2836, 'prnewswire': 3467, 'scpharmaceuticals': 3961, 'subcutaneous': 4326, 'appointments': 277, 'evolution': 1582, 'ceesay': 701, 'named': 2942, 'honored': 2119, 'excited': 1600, 'application': 272, 'member': 2782, 'extensive': 1642, 'similarly': 4105, 'ensure': 1507, 'smooth': 4149, 'infectious': 2280, 'teams': 4470, 'bachelor': 398, 'therapeutics': 4511, 'guidance': 1998, 'clients': 819, 'administered': 83, 'anywhere': 256, 'version': 4798, 'newswire': 2991, 'afraid': 126, 'feels': 1716, 'settled': 4033, 'pa': 3162, 'reached': 3647, 'survivors': 4407, 'lawyer': 2506, 'proceeds': 3476, 'eagle': 1393, 'accrued': 32, 'documents': 1336, 'provider': 3550, 'jan': 2390, 'agreement': 145, 'proposed': 3527, 'removing': 3774, 'docs': 1331, 'prompt': 3518, 'search': 3965, 'allegedly': 171, 'fund': 1860, 'saving': 3928, 'withdrawn': 4935, 'discovery': 1298, 'predictors': 3413, 'echocardiography': 1411, 'pp': 3398, 'admission': 85, 'diagnoses': 1251, 'cohort': 848, 'odds': 3071, 'sepsis': 4014, 'pmid': 3358, 'believes': 456, 'persons': 3276, 'doxorubicin': 1357, 'glad': 1921, 'scare': 3938, 'em': 1461, 'enjoyed': 1501, 'clinics': 824, 'attached': 351, 'yo': 4991, 'contract': 988, 'married': 2716, 'bioavailable': 484, 'bjp': 498, 'advani': 102, 'kamla': 2423, 'peace': 3242, 'delhi': 1181, 'banking': 416, 'seeking': 3983, 'remedy': 3763, 'failures': 1673, 'agent': 137, 'atherosclerosis': 343, 'strengthening': 4299, 'globe': 1926, 'complain': 901, 'tone': 4584, 'garlic': 1874, 'johns': 2404, 'hopkins': 2124, 'apple': 270, 'intermountain': 2340, 'diabetic': 1246, 'connected': 948, 'counterparts': 1036, 'sessions': 4029, 'appointment': 276, 'danger': 1110, 'contributing': 994, 'cocoa': 841, 'stents': 4267, 'blockage': 515, 'hose': 2128, 'iron': 2369, 'saved': 3927, 'okay': 3087, 'demanded': 1187, 'nhs': 2997, 'taxes': 4464, 'shame': 4044, 'prefer': 3415, 'considering': 959, 'donald': 1340, 'trump': 4664, 'dlvr': 1327, 'veterans': 4804, 'drinking': 1366, 'genes': 1897, 'accessed': 24, 'accumulate': 33, 'monkey': 2889, 'grant': 1966, 'hpv': 2143, 'differences': 1270, 'spirit': 4214, 'lyme': 2655, 'borne': 545, 'schedule': 3943, 'availability': 379, 'anesthesia': 222, 'spread': 4225, 'hiv': 2105, 'pollution': 3367, 'experiences': 1624, 'surviving': 4406, 'technique': 4474, 'biotronik': 493, 'oregon': 3122, 'color': 860, 'lucius': 2641, 'morningstar': 2900, 'uncle': 4706, 'talks': 4451, 'scholar': 3946, 'vast': 4781, 'education': 1423, 'grew': 1984, 'literature': 2590, 'graduate': 1958, 'disappeared': 1293, 'brother': 588, 'join': 2406, 'estate': 1549, 'loyal': 2638, 'eldest': 1447, 'partially': 3199, 'edit': 1417, 'identification': 2188, 'rfid': 3857, 'waves': 4875, 'nfc': 2993, 'ranges': 3631, 'sector': 3974, 'considerable': 955, 'resource': 3816, 'pha': 3279, 'diseased': 1304, 'replaced': 3783, 'vitapulse': 4831, 'donor': 1344, 'complicated': 907, 'surrounding': 4399, 'reviews': 3855, 'leeds': 2530, 'implants': 2224, 'shocks': 4061, 'calf': 621, 'updates': 4739, 'mast': 2726, 'moved': 2912, 'pathway': 3223, 'cervical': 719, 'cord': 1016, 'asia': 314, 'mobile': 2866, 'duke': 1385, 'multicenter': 2924, 'preserved': 3437, 'genericcheap': 1895, 'sided': 4087, 'youtube': 4995, 'goo': 1943, 'rn': 3878, 'cc': 698, 'rush': 3900, 'wikipedia': 4919, 'wiki': 4918, 'venous': 4790, 'hawthorne': 2034, 'gentle': 1900, 'blessing': 508, 'pacific': 3166, 'clinically': 822, 'randy': 3629, 'berry': 463, 'plaques': 3337, 'crew': 1060, 'detail': 1224, 'ages': 139, 'assuming': 338, 'methotrexate': 2810, 'waited': 4846, 'filling': 1750, 'girl': 1914, 'tim': 4556, 'path': 3220, 'happening': 2021, 'sugary': 4355, 'achieved': 41, 'hopes': 2122, 'behavior': 451, 'minority': 2843, 'disparities': 1309, 'sickle': 4084, 'engage': 1492, 'sponsored': 4221, 'aids': 150, 'diverse': 1320, 'ethnic': 1557, 'populations': 3374, 'facilities': 1659, 'annually': 234, 'purchase': 3575, 'segmented': 3991, 'fibromyalgia': 1735, 'attributed': 359, 'latin': 2496, 'east': 1402, 'africa': 127, 'substantial': 4338, 'johnson': 2405, 'download': 1355, 'wisdom': 4929, 'lactose': 2474, 'delicious': 1182, 'prominent': 3512, 'ancient': 219, 'onset': 3099, 'antihypertensive': 247, 'occurred': 3066, 'equivalent': 1531, 'serving': 4027, 'compounds': 915, 'inhibition': 2296, 'markers': 2710, 'altered': 188, 'rock': 3882, 'crazy': 1052, 'sinus': 4115, 'numbness': 3032, 'honestly': 2117, 'guy': 2004, 'assigned': 329, 'accepting': 22, 'sell': 4002, 'carb': 649, 'caring': 671, 'regenerative': 3718, 'embryonic': 1465, 'ablation': 5, 'afib': 125, 'induced': 2273, 'dec': 1144, 'cardioversion': 664, 'cleared': 814, 'minds': 2835, 'marcus': 2705, 'tells': 4484, 'host': 2134, 'tea': 4467, 'surprise': 4395, 'herbal': 2076, 'lymphatic': 2657, 'facial': 1656, 'slim': 4134, 'vitabreeze': 4827, 'firm': 1767, 'lcz': 2510, 'medscape': 2775, 'congress': 946, 'awarded': 391, 'forced': 1805, 'grace': 1956, 'bell': 457, 'scan': 3935, 'tb': 4465, 'account': 31, 'relieve': 3755, 'trachea': 4605, 'spite': 4216, 'realized': 3665, 'malaria': 2685, 'naturopath': 2954, 'adopt': 90, 'guarantee': 1993, 'nick': 2999, 'synthetic': 4429, 'commitment': 879, 'stream': 4295, 'sharing': 4051, 'greed': 1979, 'shortened': 4066, 'enriched': 1506, 'elements': 1453, 'heidi': 2062, 'epidemiologist': 1522, 'components': 911, 'metabolites': 2800, 'predicting': 3412, 'caucasian': 689, 'races': 3613, 'atomic': 347, 'prenominal': 3420, 'ab': 0, 'faculty': 1667, 'split': 4217, 'un': 4702, 'vertigo': 4800, 'essay': 1542, 'essays': 1543, 'papers': 3187, 'excitement': 1601, 'icu': 2184, 'evil': 1581, 'watched': 4872, 'compensation': 898, 'doi': 1337, 'nhlbi': 2996, 'nih': 3001, 'witte': 4938, 'impaired': 2218, 'fitted': 1772, 'absorb': 11, 'tendency': 4489, 'remission': 3768, 'initial': 2299, 'bringing': 579, 'fellowship': 1720, 'assessments': 328, 'responses': 3826, 'deitz': 1178, 'danny': 1116, 'learned': 2523, 'text': 4501, 'boston': 546, 'football': 1803, 'donation': 1342, 'intensive': 2333, 'centers': 710, 'limiting': 2572, 'tears': 4471, 'remembered': 3765, 'doubt': 1354, 'fds': 1703, 'employees': 1473, 'singapore': 4111, 'richard': 3864, 'singaporeans': 4112, 'fred': 1838, 'dennis': 1195, 'emails': 1463, 'checkup': 754, 'abbott': 1, 'consideration': 957, 'pipeline': 3320, 'transcatheter': 4621, 'innovation': 2310, 'thousand': 4533, 'ad': 65, 'lol': 2606, 'backed': 400, 'nov': 3023, 'diverticulitis': 1321, 'bicuspid': 470, 'aortic': 258, 'leaking': 2520, 'mad': 2665, 'jack': 2386, 'esc': 1537, 'interim': 2339, 'protocol': 3543, 'cv': 1095, 'ah': 146, 'greatest': 1977, 'technical': 4473, 'proof': 3521, 'round': 3893, 'norton': 3016, 'osu': 3136, 'stadium': 4231, 'gary': 1876, 'listen': 2587, 'hearing': 2051, 'mountains': 2909, 'signed': 4095, 'cherian': 762, 'valves': 4774, 'vein': 4787, 'precautions': 3408, 'prof': 3489, 'academic': 17, 'master': 2727, 'apply': 275, 'ltd': 2640, 'sts': 4314, 'nationally': 2949, 'billing': 476, 'investigational': 2359, 'duration': 1386, 'kyle': 2463, 'writer': 4970, 'ezine': 1651, 'selfgrowth': 4001, 'gb': 1883, 'artists': 311, 'disilgold': 1306, 'tweeters': 4683, 'shorty': 4070, 'restrictive': 3834, 'bronchi': 584, 'embolism': 1464, 'thromboembolic': 4542, 'veno': 4789, 'occlusive': 3063, 'classification': 809, 'pharmacological': 3284, 'supported': 4379, 'classes': 807, 'idiopathic': 2192, 'initiated': 2301, 'balloon': 411, 'curable': 1082, 'cysts': 1099, 'pcos': 3238, 'elimination': 1457, 'permanently': 3271, 'pah': 3174, 'ncbi': 2960, 'nlm': 3004, 'chickens': 767, 'asleep': 319, 'overload': 3154, 'biopsy': 492, 'chair': 724, 'pharmacy': 3286, 'estimate': 1550, 'equation': 1528, 'egfr': 1437, 'parameters': 3192, 'gender': 1887, 'summary': 4364, 'contraindicated': 990, 'alcoholism': 165, 'behalf': 450, 'ischemia': 2372, 'preparations': 3422, 'devoted': 1244, 'approaches': 281, 'pathophysiology': 3222, 'transfer': 4622, 'gmt': 1931, 'kelly': 2428, 'cross': 1067, 'approx': 285, 'characteristics': 743, 'advantage': 103, 'caution': 695, 'photo': 3293, 'luke': 2644, 'dig': 1277, 'promise': 3513, 'patel': 3218, 'underwent': 4714, 'gained': 1871, 'ferritin': 1725, 'hemochromatosis': 2071, 'liter': 2588, 'developer': 1237, 'fashion': 1692, 'tolerability': 4579, 'catheter': 687, 'pericardial': 3266, 'effusion': 1436, 'thickening': 4518, 'bc': 434, 'eteplirsen': 1555, 'duchenne': 1383, 'rejection': 3736, 'advocates': 114, 'dc': 1130, 'sarepta': 3922, 'panel': 3184, 'voted': 4840, 'dystrophin': 1392, 'minimum': 2839, 'william': 4920, 'mistake': 2855, 'rejected': 3735, 'boys': 555, 'kills': 2446, 'inconsistent': 2248, 'rollins': 3888, 'toledo': 4578, 'animation': 229, 'tips': 4564, 'silent': 4100, 'mon': 2882, 'resuscitation': 3839, 'sacramento': 3904, 'prone': 3519, 'dangers': 1113, 'ambulance': 198, 'arrive': 300, 'distinct': 1312, 'victims': 4810, 'picking': 3305, 'minimize': 2838, 'sensible': 4009, 'complaint': 902, 'necessarily': 2966, 'subscribed': 4333, 'unsubscribe': 4731, 'oatmeal': 3044, 'oats': 3045, 'grain': 1960, 'expectancy': 1617, 'steel': 4262, 'rolling': 3887, 'triggered': 4653, 'hyperglycemia': 2169, 'requires': 3803, 'hispanic': 2097, 'regime': 3719, 'outstanding': 3147, 'presentations': 3433, 'chd': 749, 'score': 3958, 'tool': 4588, 'tricuspid': 4650, 'restriction': 3833, 'suggesting': 4358, 'kansas': 2424, 'massage': 2724, 'fontan': 1799, 'pleural': 3352, 'cleveland': 816, 'hide': 2086, 'launched': 2499, 'party': 3209, 'doors': 1347, 'moderation': 2871, 'myocarditis': 2939, 'mount': 2907, 'detecting': 1229, 'fame': 1683, 'harry': 2030, 'leaves': 2527, 'admit': 87, 'violence': 4817, 'advisable': 108, 'irritation': 2371, 'pins': 3317, 'follows': 1798, 'confirm': 938, 'relaxation': 3746, 'relaxed': 3747, 'inhaled': 2293, 'dental': 1196, 'arrived': 301, 'holiday': 2109, 'tc': 4466, 'sized': 4124, 'sat': 3923, 'pronounced': 3520, 'desks': 1219, 'resident': 3809, 'icon': 2183, 'wayne': 4877, 'uptake': 4744, 'prescribe': 3425, 'germany': 1904, 'abbvie': 2, 'humira': 2159, 'biologic': 486, 'hunger': 2162, 'shop': 4064, 'caught': 690, 'claims': 805, 'washed': 4868, 'banks': 417, 'threshold': 4539, 'deposits': 1203, 'rbi': 3644, 'differential': 1272, 'ending': 1483, 'rajan': 3623, 'guard': 1994, 'depend': 1199, 'observe': 3054, 'lift': 2559, 'losses': 2623, 'frame': 1835, 'caregiver': 669, 'imidapril': 2209, 'nephropathy': 2975, 'ami': 204, 'evident': 1580, 'ncaa': 2959, 'wrestler': 4967, 'sport': 4222, 'bleed': 505, 'enter': 1509, 'brick': 574, 'thiamine': 4517, 'br': 558, 'mess': 2793, 'soda': 4157, 'wash': 4867, 'cups': 1081, 'stimulants': 4275, 'mitochondria': 2856, 'rd': 3645, 'ride': 3866, 'register': 3723, 'wrestling': 4968, 'championship': 731, 'championships': 732, 'illinois': 2200, 'nevertheless': 2985, 'mirna': 2848, 'signatures': 4094, 'mirnas': 2849, 'mir': 2846, 'prognostic': 3499, 'atrium': 350, 'northern': 3015, 'refugees': 3711, 'greek': 1980, 'migrant': 2822, 'pomerantz': 3368, 'cti': 1075, 'biopharma': 490, 'purchased': 3576, 'pacritinib': 3171, 'false': 1682, 'florida': 1782, 'workers': 4951, 'sciencedaily': 3950, 'caregivers': 670, 'volunteer': 4837, 'lewis': 2546, 'serves': 4024, 'task': 4458, 'magazine': 2667, 'briefly': 577, 'items': 2381, 'meantime': 2751, 'filter': 1753, 'troponin': 4658, 'ng': 2995, 'suicide': 4361, 'murdered': 2927, 'bout': 551, 'swedish': 4415, 'adolescence': 89, 'teenagers': 4479, 'capital': 644, 'vizient': 4832, 'customer': 1090, 'actos': 59, 'questioned': 3601, 'macular': 2664, 'deemed': 1161, 'sofa': 4159, 'gospel': 1947, 'cms': 837, 'opposite': 3114, 'hispanics': 2098, 'precise': 3410, 'habits': 2007, 'cardiomyopathies': 660, 'art': 302, 'electrophysiology': 1452, 'hypertrophic': 2174, 'enhancement': 1499, 'denison': 1193, 'railroad': 3618, 'carol': 672, 'recalled': 3673, 'methodist': 2808, 'graduated': 1959, 'accuracy': 35, 'restoration': 3831, 'preceded': 3409, 'lieu': 2554, 'stick': 4273, 'af': 117, 'everybody': 1574, 'instructions': 2323, 'oxycodone': 3160, 'malignant': 2688, 'hyperthermia': 2173, 'excluded': 1603, 'bloated': 512, 'hydrated': 2167, 'glasses': 1922, 'preservatives': 3436, 'cooked': 1007, 'holidays': 2110, 'greer': 1983, 'garson': 1875, 'delivering': 1184, 'kick': 2436, 'pillar': 3312, 'output': 3145, 'needing': 2971, 'exhaustion': 1608, 'aeds': 115, 'utility': 4762, 'ya': 4980, 'probable': 3470, 'profiles': 3495, 'nda': 2962, 'skipping': 4129, 'dmd': 1328, 'committed': 880, 'voting': 4841, 'authority': 370, 'commercialization': 876, 'manufacturing': 2700, 'tip': 4563, 'testosterone': 4498, 'pt': 3559, 'publisher': 3564, 'colon': 858, 'buycheapgeneric': 609, 'trastuzumab': 4631, 'sores': 4180, 'reaganlibrary': 3660, 'lois': 2605, 'celebrities': 702, 'ethacridine': 1556, 'lactate': 2473, 'resolution': 3812, 'language': 2481, 'migraines': 2821, 'gmbh': 1930, 'eurekalert': 1560, 'subtype': 4340, 'immunotherapy': 2216, 'remove': 3772, 'excellence': 1594, 'newest': 2988, 'calapai': 617, 'certified': 718, 'overhydration': 3153, 'thirst': 4527, 'hyponatremia': 2176, 'remarkable': 3761, 'informed': 2290, 'inappropriate': 2238, 'remote': 3770, 'software': 4161, 'ryanodex': 3902, 'mdma': 2743, 'ecstasy': 1414, 'methamphetamine': 2806, 'heroin': 2080, 'worsen': 4960, 'diadexus': 1248, 'plac': 3323, 'generate': 1891, 'herein': 2078, 'kimbo': 2447, 'bellator': 458, 'overview': 3156, 'targets': 4456, 'roche': 3881, 'reportsnreports': 3793, 'micro': 2817, 'connect': 947, 'religion': 3756, 'dimensions': 1282, 'freedom': 1840, 'images': 2205, 'amgen': 202, 'amgn': 203, 'consensus': 952, 'forgive': 1812, 'gifts': 1913, 'improvements': 2232, 'compression': 917, 'communities': 887, 'occlusion': 3062, 'passage': 3211, 'aspirin': 321, 'wishes': 4932, 'systemic': 4432, 'traumatic': 4633, 'tube': 4670, 'kent': 2429, 'relating': 3738, 'theravance': 4514, 'immunology': 2215, 'limb': 2568, 'calgary': 622, 'ministry': 2841, 'penis': 3248, 'repatha': 3779, 'sight': 4090, 'heaney': 2048, 'murphy': 2928, 'dermatology': 1209, 'hiddleston': 2085, 'hank': 2018, 'songwriter': 4177, 'cry': 1070, 'comorbidities': 889, 'israeli': 2376, 'wound': 4965, 'curves': 1089, 'app': 263, 'brexit': 572, 'gbp': 1884, 'knocked': 2455, 'capsule': 645, 'buy': 608, 'pid': 3308, 'walnut': 4855, 'awake': 389, 'casket': 684, 'jr': 2413, 'markedly': 2708, 'circle': 793, 'map': 2702, 'albert': 162, 'dox': 1356, 'ferrari': 1724, 'silicon': 4101, 'cylinder': 1098, 'hs': 2147, 'plug': 3354, 'electric': 1448, 'kicking': 2437, 'screw': 3964, 'wires': 4928, 'activation': 52, 'aka': 159, 'uab': 4694, 'investigating': 2357, 'martin': 2719, 'pittsburg': 3322, 'obituary': 3050, 'obituaries': 3049, 'pleasanton': 3348, 'cemetery': 707, 'findagrave': 1759, 'cgi': 722, 'bin': 480, 'fg': 1730, 'grid': 1985, 'greaer': 1974, 'cfm': 721, 'harrison': 2029, 'topeka': 4591, 'avenue': 381, 'brothers': 589, 'id': 2185, 'stephan': 4269, 'pieces': 3310, 'calculate': 619, 'tanzania': 4452, 'preparation': 3421, 'detect': 1227, 'vaccination': 4766, 'endovascular': 1486, 'perforation': 3260, 'superficial': 4371, 'femoral': 1723, 'nitinol': 3003, 'supera': 4370, 'thrombectomy': 4541, 'rotarex': 3891, 'sfa': 4041, 'cfa': 720, 'vol': 4835, 'scopus': 3957, 'mitraclip': 2859, 'phcc': 3288, 'amp': 209, 'lymph': 2656, 'shut': 4081, 'pdt': 3240, 'secondhand': 3970, 'atlanta': 346, 'mac': 2660, 'colonoscopy': 859, 'sweden': 4414, 'keto': 2431, 'adjust': 80, 'spectrum': 4206, 'getty': 1908, 'unclear': 4707, 'knoxville': 2461, 'hyperkalemia': 2170, 'coq': 1015, 'tension': 4491, 'hcm': 2035, 'sierra': 4089, 'girls': 1915, 'cte': 1074, 'trauma': 4632, 'tau': 4461, 'tia': 4552, 'mcneill': 2741, 'omalu': 3092, 'nfl': 2994, 'mackey': 2663, 'famer': 1684, 'caption': 647, 'crash': 1051, 'accidental': 26, 'bob': 532, 'laevigata': 2477, 'seizure': 3993, 'jackson': 2387, 'mld': 2863, 'lymphedema': 2658, 'germans': 1903, 'enemy': 1490, 'buddy': 593, 'trick': 4649, 'keyword': 2434, 'fucking': 1852, 'hermann': 2079, 'grandviewresearch': 1965, 'ge': 1885, 'thinks': 4525, 'monkeyman': 2890, 'anaesthesia': 212, 'crying': 1071, 'enjoying': 1502, 'rt': 3896, 'prince': 3459, 'princess': 3460, 'piti': 3321, 'syncardia': 4426, 'tah': 4442, 'surely': 4388, 'pleurisy': 3353, 'chylothorax': 789, 'diamond': 1257, 'jim': 2397, 'roll': 3885, 'halsey': 2011, 'sp': 4191, 'useless': 4755, 'sylvania': 4421, 'factory': 1665, 'camera': 631, 'drugmaker': 1380, 'cultured': 1079, 'immunization': 2214, 'mitochondrial': 2857, 'percussion': 3256, 'curve': 1088, 'elvis': 1460, 'gh': 1909, 'methadone': 2805, 'wreck': 4966, 'amplifier': 210, 'subwoofer': 4341, 'pin': 3315, 'studio': 4320, 'restaurant': 3829, 'pvod': 3586, 'lavage': 2502, 'galesburg': 1872, 'tib': 4553, 'molbiol': 2875, 'lightmix': 2563, 'modular': 2874, 'zika': 4998, 'assay': 323, 'ottawa': 3140, 'cleanliness': 812, 'rice': 3862, 'disturbances': 1317, 'hidradenitis': 2087, 'suppurativa': 4385, 'carbimazole': 650, 'lonza': 2611, 'renova': 3776, 'drg': 1364, 'attractions': 358, 'ethnicity': 1558, 'mitophagy': 2858, 'mailbox': 2672, 'packaged': 3169, 'trek': 4643, 'musician': 2935, 'linux': 2581, 'skinny': 4127, 'turner': 4680, 'empa': 1469, 'reg': 3713, 'opiates': 3109, 'revivent': 3856, 'forskolin': 1821, 'mgs': 2812, 'troubles': 4660, 'stresx': 4302, 'winter': 4926, 'avocado': 383, 'ritchie': 3876, 'corvia': 1024, 'biolife': 485, 'cryostor': 1072, 'socialist': 4154, 'tn': 4572, 'stealth': 4261, 'elamipretide': 1445, 'carr': 674, 'lfn': 2547, 'pcori': 3237, 'crocodile': 1065, 'blumentals': 526, 'ctn': 1076, 'billy': 479, 'vepoloxamer': 4795, 'ape': 261, 'anton': 250, 'yelchin': 4986, 'chekov': 757, 'driveway': 1371, 'pinned': 3316, 'tramadol': 4618, 'pycroft': 3587, 'shirakawa': 4056}\n"
     ]
    }
   ],
   "source": [
    "print(Tfidf_vect.vocabulary_)"
   ]
  },
  {
   "cell_type": "markdown",
   "metadata": {},
   "source": [
    "### TF-IDF dataset\n",
    "##### 1: Row number of ‘Train_X_Tfidf’\n",
    "##### 2: Unique Integer number of each word in the first row\n",
    "##### 3: Score calculated by TF-IDF Vectorizer"
   ]
  },
  {
   "cell_type": "code",
   "execution_count": 36,
   "metadata": {
    "scrolled": true
   },
   "outputs": [
    {
     "name": "stdout",
     "output_type": "stream",
     "text": [
      "  (0, 4984)\t0.05582735130105248\n",
      "  (0, 4964)\t0.10464774343777763\n",
      "  (0, 4952)\t0.07665066564518606\n",
      "  (0, 4937)\t0.06680811236952787\n",
      "  (0, 4753)\t0.062332345322115\n",
      "  (0, 4692)\t0.09478892111581075\n",
      "  (0, 4689)\t0.07365889713976918\n",
      "  (0, 4687)\t0.05602408583308502\n",
      "  (0, 4685)\t0.09682239471953795\n",
      "  (0, 4587)\t0.15550526390701988\n",
      "  (0, 4557)\t0.04703173361482153\n",
      "  (0, 4499)\t0.0886855258155508\n",
      "  (0, 4495)\t0.38325332822593033\n",
      "  (0, 4443)\t0.057350668015882\n",
      "  (0, 4300)\t0.07921827981535141\n",
      "  (0, 4204)\t0.08146232577994302\n",
      "  (0, 4097)\t0.07692069523835192\n",
      "  (0, 3669)\t0.11504988129964266\n",
      "  (0, 3627)\t0.12342556176195286\n",
      "  (0, 3604)\t0.4410531601680745\n",
      "  (0, 3549)\t0.09544475301567\n",
      "  (0, 3500)\t0.08180377106990727\n",
      "  (0, 3471)\t0.08112643269259892\n",
      "  (0, 3425)\t0.11684727267975703\n",
      "  (0, 3249)\t0.04990920103382262\n",
      "  :\t:\n",
      "  (808, 4135)\t0.29944998113868004\n",
      "  (808, 3441)\t0.09473611611366767\n",
      "  (808, 3094)\t0.07141153754710791\n",
      "  (808, 3012)\t0.11430681433455452\n",
      "  (808, 2883)\t0.15177873755885712\n",
      "  (808, 2854)\t0.18894445113758596\n",
      "  (808, 2680)\t0.0972567638915425\n",
      "  (808, 2666)\t0.10545472563606824\n",
      "  (808, 2129)\t0.28533462068373194\n",
      "  (808, 2056)\t0.1615840090934049\n",
      "  (808, 2050)\t0.16304421626378035\n",
      "  (808, 2037)\t0.13354750618646088\n",
      "  (808, 1937)\t0.10248887021714957\n",
      "  (808, 1905)\t0.16459929795950703\n",
      "  (808, 1758)\t0.11604527565999642\n",
      "  (808, 1573)\t0.1051970831196693\n",
      "  (808, 1496)\t0.1645723640011801\n",
      "  (808, 1325)\t0.5668333534127579\n",
      "  (808, 1127)\t0.09120052925464203\n",
      "  (808, 751)\t0.1295435167971795\n",
      "  (808, 637)\t0.1087151768110961\n",
      "  (808, 625)\t0.11297939120845227\n",
      "  (808, 522)\t0.07635315582280192\n",
      "  (808, 296)\t0.20174979625338715\n",
      "  (808, 194)\t0.1149911985147156\n"
     ]
    }
   ],
   "source": [
    "print(Train_X_Tfidf)"
   ]
  },
  {
   "cell_type": "markdown",
   "metadata": {},
   "source": [
    "### ML Algorithms to Predict the outcome"
   ]
  },
  {
   "cell_type": "markdown",
   "metadata": {},
   "source": [
    "#### Naive Bayes"
   ]
  },
  {
   "cell_type": "code",
   "execution_count": 37,
   "metadata": {},
   "outputs": [
    {
     "name": "stdout",
     "output_type": "stream",
     "text": [
      "Naive Bayes Accuracy Score ->  78.44827586206897\n"
     ]
    }
   ],
   "source": [
    "# fit the training dataset on the NB classifier\n",
    "Naive = naive_bayes.MultinomialNB()\n",
    "Naive.fit(Train_X_Tfidf,Train_Y)\n",
    "# predict the labels on validation dataset\n",
    "predictions_NB = Naive.predict(Test_X_Tfidf)\n",
    "# Use accuracy_score function to get the accuracy\n",
    "print(\"Naive Bayes Accuracy Score -> \",accuracy_score(predictions_NB, Test_Y)*100)\n",
    "actual=Test_Y\n",
    "predicted = predictions_NB"
   ]
  },
  {
   "cell_type": "code",
   "execution_count": 38,
   "metadata": {},
   "outputs": [
    {
     "name": "stdout",
     "output_type": "stream",
     "text": [
      "Confusion Matrix :\n",
      "[[269   0]\n",
      " [ 75   4]]\n",
      "Accuracy Score : 0.7844827586206896\n",
      "Report : \n",
      "              precision    recall  f1-score   support\n",
      "\n",
      "           0       0.78      1.00      0.88       269\n",
      "           1       1.00      0.05      0.10        79\n",
      "\n",
      "   micro avg       0.78      0.78      0.78       348\n",
      "   macro avg       0.89      0.53      0.49       348\n",
      "weighted avg       0.83      0.78      0.70       348\n",
      "\n"
     ]
    }
   ],
   "source": [
    "from sklearn.metrics import confusion_matrix \n",
    "from sklearn.metrics import accuracy_score \n",
    "from sklearn.metrics import classification_report\n",
    "results = confusion_matrix(actual, predicted)\n",
    "print('Confusion Matrix :')\n",
    "print(results) \n",
    "print('Accuracy Score :',accuracy_score(actual,predicted))\n",
    "print('Report : ')\n",
    "print(classification_report(actual, predicted))"
   ]
  },
  {
   "cell_type": "markdown",
   "metadata": {},
   "source": [
    "#### SVM "
   ]
  },
  {
   "cell_type": "code",
   "execution_count": 39,
   "metadata": {},
   "outputs": [
    {
     "name": "stdout",
     "output_type": "stream",
     "text": [
      "SVM Accuracy Score ->  87.06896551724138\n"
     ]
    }
   ],
   "source": [
    "# Classifier - Algorithm - SVM\n",
    "# fit the training dataset on the classifier\n",
    "SVM = svm.SVC(C=1.0, kernel='linear', degree=3, gamma='auto')\n",
    "SVM.fit(Train_X_Tfidf,Train_Y)\n",
    "# predict the labels on validation dataset\n",
    "predictions_SVM = SVM.predict(Test_X_Tfidf)\n",
    "# Use accuracy_score function to get the accuracy\n",
    "print(\"SVM Accuracy Score -> \",accuracy_score(predictions_SVM, Test_Y)*100)\n",
    "actual=Test_Y\n",
    "predicted = predictions_SVM"
   ]
  },
  {
   "cell_type": "code",
   "execution_count": 40,
   "metadata": {},
   "outputs": [
    {
     "name": "stdout",
     "output_type": "stream",
     "text": [
      "Confusion Matrix :\n",
      "[[264   5]\n",
      " [ 40  39]]\n",
      "Accuracy Score : 0.8706896551724138\n",
      "Report : \n",
      "              precision    recall  f1-score   support\n",
      "\n",
      "           0       0.87      0.98      0.92       269\n",
      "           1       0.89      0.49      0.63        79\n",
      "\n",
      "   micro avg       0.87      0.87      0.87       348\n",
      "   macro avg       0.88      0.74      0.78       348\n",
      "weighted avg       0.87      0.87      0.86       348\n",
      "\n"
     ]
    }
   ],
   "source": [
    "from sklearn.metrics import confusion_matrix \n",
    "from sklearn.metrics import accuracy_score \n",
    "from sklearn.metrics import classification_report\n",
    "results = confusion_matrix(actual, predicted)\n",
    "print('Confusion Matrix :')\n",
    "print(results) \n",
    "print('Accuracy Score :',accuracy_score(actual,predicted))\n",
    "print('Report : ')\n",
    "print(classification_report(actual, predicted))"
   ]
  },
  {
   "cell_type": "code",
   "execution_count": 41,
   "metadata": {},
   "outputs": [],
   "source": [
    "df=patient_conversations"
   ]
  },
  {
   "cell_type": "code",
   "execution_count": 42,
   "metadata": {},
   "outputs": [
    {
     "data": {
      "text/html": [
       "<div>\n",
       "<style scoped>\n",
       "    .dataframe tbody tr th:only-of-type {\n",
       "        vertical-align: middle;\n",
       "    }\n",
       "\n",
       "    .dataframe tbody tr th {\n",
       "        vertical-align: top;\n",
       "    }\n",
       "\n",
       "    .dataframe thead th {\n",
       "        text-align: right;\n",
       "    }\n",
       "</style>\n",
       "<table border=\"1\" class=\"dataframe\">\n",
       "  <thead>\n",
       "    <tr style=\"text-align: right;\">\n",
       "      <th></th>\n",
       "      <th>Text</th>\n",
       "      <th>Pat_Tag</th>\n",
       "    </tr>\n",
       "  </thead>\n",
       "  <tbody>\n",
       "    <tr>\n",
       "      <th>0</th>\n",
       "      <td>disagree principle saying entresto major failu...</td>\n",
       "      <td>0</td>\n",
       "    </tr>\n",
       "    <tr>\n",
       "      <th>1</th>\n",
       "      <td>always dizzy get dizzy standing made get slow ...</td>\n",
       "      <td>1</td>\n",
       "    </tr>\n",
       "  </tbody>\n",
       "</table>\n",
       "</div>"
      ],
      "text/plain": [
       "                                                Text  Pat_Tag\n",
       "0  disagree principle saying entresto major failu...        0\n",
       "1  always dizzy get dizzy standing made get slow ...        1"
      ]
     },
     "execution_count": 42,
     "metadata": {},
     "output_type": "execute_result"
    }
   ],
   "source": [
    "df.head(2)"
   ]
  },
  {
   "cell_type": "code",
   "execution_count": 43,
   "metadata": {},
   "outputs": [
    {
     "name": "stderr",
     "output_type": "stream",
     "text": [
      "Using TensorFlow backend.\n"
     ]
    },
    {
     "name": "stdout",
     "output_type": "stream",
     "text": [
      "WARNING:tensorflow:From /home/shri/anaconda3/lib/python3.7/site-packages/tensorflow/python/framework/op_def_library.py:263: colocate_with (from tensorflow.python.framework.ops) is deprecated and will be removed in a future version.\n",
      "Instructions for updating:\n",
      "Colocations handled automatically by placer.\n",
      "WARNING:tensorflow:From /home/shri/anaconda3/lib/python3.7/site-packages/keras/backend/tensorflow_backend.py:3445: calling dropout (from tensorflow.python.ops.nn_ops) with keep_prob is deprecated and will be removed in a future version.\n",
      "Instructions for updating:\n",
      "Please use `rate` instead of `keep_prob`. Rate should be set to `rate = 1 - keep_prob`.\n",
      "WARNING:tensorflow:From /home/shri/anaconda3/lib/python3.7/site-packages/tensorflow/python/ops/math_ops.py:3066: to_int32 (from tensorflow.python.ops.math_ops) is deprecated and will be removed in a future version.\n",
      "Instructions for updating:\n",
      "Use tf.cast instead.\n",
      "Train on 728 samples, validate on 81 samples\n",
      "Epoch 1/5\n",
      "728/728 [==============================] - 2s 3ms/step - loss: 0.5519 - acc: 0.7418 - val_loss: 0.5674 - val_acc: 0.7037\n",
      "Epoch 2/5\n",
      "728/728 [==============================] - 0s 103us/step - loss: 0.3766 - acc: 0.8365 - val_loss: 0.4252 - val_acc: 0.7654\n",
      "Epoch 3/5\n",
      "728/728 [==============================] - 0s 100us/step - loss: 0.2961 - acc: 0.9011 - val_loss: 0.3627 - val_acc: 0.7901\n",
      "Epoch 4/5\n",
      "728/728 [==============================] - 0s 107us/step - loss: 0.2323 - acc: 0.9286 - val_loss: 0.3180 - val_acc: 0.8148\n",
      "Epoch 5/5\n",
      "728/728 [==============================] - 0s 86us/step - loss: 0.1791 - acc: 0.9492 - val_loss: 0.2788 - val_acc: 0.9012\n"
     ]
    }
   ],
   "source": [
    "import itertools\n",
    "import os\n",
    "\n",
    "%matplotlib inline\n",
    "import matplotlib.pyplot as plt\n",
    "import numpy as np\n",
    "import pandas as pd\n",
    "import tensorflow as tf\n",
    "\n",
    "from sklearn.preprocessing import LabelBinarizer, LabelEncoder\n",
    "from sklearn.metrics import confusion_matrix\n",
    "\n",
    "from tensorflow import keras\n",
    "from keras.models import Sequential\n",
    "from keras.layers import Dense, Activation, Dropout\n",
    "from keras.preprocessing import text, sequence\n",
    "from keras import utils\n",
    "\n",
    "train_size = int(len(df) * .7)\n",
    "train_posts = df['Text'][:train_size]\n",
    "train_tags = df['Pat_Tag'][:train_size]\n",
    "\n",
    "test_posts = df['Text'][train_size:]\n",
    "test_tags = df['Pat_Tag'][train_size:]\n",
    "\n",
    "max_words = 1000\n",
    "tokenize = text.Tokenizer(num_words=max_words, char_level=False)\n",
    "tokenize.fit_on_texts(train_posts) # only fit on train\n",
    "\n",
    "x_train = tokenize.texts_to_matrix(train_posts)\n",
    "x_test = tokenize.texts_to_matrix(test_posts)\n",
    "\n",
    "encoder = LabelEncoder()\n",
    "encoder.fit(train_tags)\n",
    "y_train = encoder.transform(train_tags)\n",
    "y_test = encoder.transform(test_tags)\n",
    "\n",
    "num_classes = np.max(y_train) + 1\n",
    "y_train = utils.to_categorical(y_train, num_classes)\n",
    "y_test = utils.to_categorical(y_test, num_classes)\n",
    "\n",
    "batch_size = 32\n",
    "epochs = 5\n",
    "\n",
    "# Build the model\n",
    "model = Sequential()\n",
    "model.add(Dense(64, input_shape=(max_words,)))\n",
    "model.add(Activation('relu'))\n",
    "model.add(Dropout(0.5))\n",
    "model.add(Dense(num_classes))\n",
    "model.add(Activation('softmax'))\n",
    "\n",
    "model.compile(loss='categorical_crossentropy',\n",
    "              optimizer='adam',\n",
    "              metrics=['accuracy'])\n",
    "              \n",
    "history = model.fit(x_train, y_train,\n",
    "                    batch_size=batch_size,\n",
    "                    epochs=epochs,\n",
    "                    verbose=1,\n",
    "                    validation_split=0.1)"
   ]
  },
  {
   "cell_type": "code",
   "execution_count": 44,
   "metadata": {},
   "outputs": [
    {
     "name": "stdout",
     "output_type": "stream",
     "text": [
      "348/348 [==============================] - 0s 41us/step\n",
      "Test accuracy: 0.8591954043541832\n"
     ]
    }
   ],
   "source": [
    "score = model.evaluate(x_test, y_test, batch_size=batch_size, verbose=1)\n",
    "print('Test accuracy:', score[1])"
   ]
  },
  {
   "cell_type": "code",
   "execution_count": 45,
   "metadata": {},
   "outputs": [
    {
     "name": "stdout",
     "output_type": "stream",
     "text": [
      "dict_keys(['val_loss', 'val_acc', 'loss', 'acc'])\n"
     ]
    }
   ],
   "source": [
    "print(history.history.keys())"
   ]
  },
  {
   "cell_type": "code",
   "execution_count": 46,
   "metadata": {},
   "outputs": [
    {
     "data": {
      "image/png": "[encoded data removed]",
      "text/plain": [
       "<Figure size 432x288 with 1 Axes>"
      ]
     },
     "metadata": {
      "needs_background": "light"
     },
     "output_type": "display_data"
    }
   ],
   "source": [
    "plt.plot(history.history['acc'])\n",
    "plt.plot(history.history['val_acc'])\n",
    "plt.title('model accuracy')\n",
    "plt.ylabel('Accuracy')\n",
    "plt.xlabel('loss')\n",
    "plt.legend(['train', 'test'], loc='upper left')\n",
    "plt.show()"
   ]
  },
  {
   "cell_type": "code",
   "execution_count": 47,
   "metadata": {},
   "outputs": [
    {
     "data": {
      "image/png": "[encoded data removed]",
      "text/plain": [
       "<Figure size 432x288 with 1 Axes>"
      ]
     },
     "metadata": {
      "needs_background": "light"
     },
     "output_type": "display_data"
    }
   ],
   "source": [
    "plt.plot(history.history['loss'])\n",
    "plt.plot(history.history['val_loss'])\n",
    "plt.title('model accuracy')\n",
    "plt.ylabel('Accuracy')\n",
    "plt.xlabel('loss')\n",
    "plt.legend(['train', 'test'], loc='upper left')\n",
    "plt.show()"
   ]
  }
 ],
 "metadata": {
  "kernelspec": {
   "display_name": "Python 3",
   "language": "python",
   "name": "python3"
  },
  "language_info": {
   "codemirror_mode": {
    "name": "ipython",
    "version": 3
   },
   "file_extension": ".py",
   "mimetype": "text/x-python",
   "name": "python",
   "nbconvert_exporter": "python",
   "pygments_lexer": "ipython3",
   "version": "3.7.0"
  }
 },
 "nbformat": 4,
 "nbformat_minor": 2
}
